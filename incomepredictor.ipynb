{
  "nbformat": 4,
  "nbformat_minor": 0,
  "metadata": {
    "colab": {
      "provenance": [],
      "authorship_tag": "ABX9TyMe9oHBrsylZq9KqYYfS4RK",
      "include_colab_link": true
    },
    "kernelspec": {
      "name": "python3",
      "display_name": "Python 3"
    },
    "language_info": {
      "name": "python"
    }
  },
  "cells": [
    {
      "cell_type": "markdown",
      "metadata": {
        "id": "view-in-github",
        "colab_type": "text"
      },
      "source": [
        "<a href=\"https://colab.research.google.com/github/KenLo506/income_predictor/blob/main/incomepredictor.ipynb\" target=\"_parent\"><img src=\"https://colab.research.google.com/assets/colab-badge.svg\" alt=\"Open In Colab\"/></a>"
      ]
    },
    {
      "cell_type": "markdown",
      "source": [
        "Part 0: Load Data\n",
        "\n"
      ],
      "metadata": {
        "id": "gDfcoGNJsiiB"
      }
    },
    {
      "cell_type": "code",
      "execution_count": null,
      "metadata": {
        "colab": {
          "base_uri": "https://localhost:8080/",
          "height": 206
        },
        "id": "NcsqzMe8PCfm",
        "outputId": "2ab8c7dc-6885-4ab7-9e7d-1a6240b9f9e3"
      },
      "outputs": [
        {
          "output_type": "execute_result",
          "data": {
            "text/plain": [
              "   age         workclass  fnlwgt  education  education-num  \\\n",
              "0   73           Unknown  378922    HS-grad              9   \n",
              "1   46           Private  207807       10th              6   \n",
              "2   55  Self-emp-not-inc  319733    HS-grad              9   \n",
              "3   38           Unknown  365465  Assoc-voc             11   \n",
              "4   26  Self-emp-not-inc   33016  Assoc-voc             11   \n",
              "\n",
              "          marital-status         occupation   relationship   race     sex  \\\n",
              "0  Married-spouse-absent            Unknown  Not-in-family  White  Female   \n",
              "1     Married-civ-spouse  Machine-op-inspct           Wife  Black  Female   \n",
              "2     Married-civ-spouse       Craft-repair        Husband  White    Male   \n",
              "3          Never-married            Unknown      Own-child  White    Male   \n",
              "4               Divorced      Other-service      Unmarried  White  Female   \n",
              "\n",
              "   capital-gain  capital-loss  hours-per-week native-country annual-income  \n",
              "0             0             0              20         Canada         <=50K  \n",
              "1             0             0              30  United-States         <=50K  \n",
              "2             0             0              40  United-States         <=50K  \n",
              "3             0             0              15  United-States         <=50K  \n",
              "4             0             0              55  United-States         <=50K  "
            ],
            "text/html": [
              "\n",
              "  <div id=\"df-e5070e5f-d861-4a3f-a948-44861189f100\">\n",
              "    <div class=\"colab-df-container\">\n",
              "      <div>\n",
              "<style scoped>\n",
              "    .dataframe tbody tr th:only-of-type {\n",
              "        vertical-align: middle;\n",
              "    }\n",
              "\n",
              "    .dataframe tbody tr th {\n",
              "        vertical-align: top;\n",
              "    }\n",
              "\n",
              "    .dataframe thead th {\n",
              "        text-align: right;\n",
              "    }\n",
              "</style>\n",
              "<table border=\"1\" class=\"dataframe\">\n",
              "  <thead>\n",
              "    <tr style=\"text-align: right;\">\n",
              "      <th></th>\n",
              "      <th>age</th>\n",
              "      <th>workclass</th>\n",
              "      <th>fnlwgt</th>\n",
              "      <th>education</th>\n",
              "      <th>education-num</th>\n",
              "      <th>marital-status</th>\n",
              "      <th>occupation</th>\n",
              "      <th>relationship</th>\n",
              "      <th>race</th>\n",
              "      <th>sex</th>\n",
              "      <th>capital-gain</th>\n",
              "      <th>capital-loss</th>\n",
              "      <th>hours-per-week</th>\n",
              "      <th>native-country</th>\n",
              "      <th>annual-income</th>\n",
              "    </tr>\n",
              "  </thead>\n",
              "  <tbody>\n",
              "    <tr>\n",
              "      <th>0</th>\n",
              "      <td>73</td>\n",
              "      <td>Unknown</td>\n",
              "      <td>378922</td>\n",
              "      <td>HS-grad</td>\n",
              "      <td>9</td>\n",
              "      <td>Married-spouse-absent</td>\n",
              "      <td>Unknown</td>\n",
              "      <td>Not-in-family</td>\n",
              "      <td>White</td>\n",
              "      <td>Female</td>\n",
              "      <td>0</td>\n",
              "      <td>0</td>\n",
              "      <td>20</td>\n",
              "      <td>Canada</td>\n",
              "      <td>&lt;=50K</td>\n",
              "    </tr>\n",
              "    <tr>\n",
              "      <th>1</th>\n",
              "      <td>46</td>\n",
              "      <td>Private</td>\n",
              "      <td>207807</td>\n",
              "      <td>10th</td>\n",
              "      <td>6</td>\n",
              "      <td>Married-civ-spouse</td>\n",
              "      <td>Machine-op-inspct</td>\n",
              "      <td>Wife</td>\n",
              "      <td>Black</td>\n",
              "      <td>Female</td>\n",
              "      <td>0</td>\n",
              "      <td>0</td>\n",
              "      <td>30</td>\n",
              "      <td>United-States</td>\n",
              "      <td>&lt;=50K</td>\n",
              "    </tr>\n",
              "    <tr>\n",
              "      <th>2</th>\n",
              "      <td>55</td>\n",
              "      <td>Self-emp-not-inc</td>\n",
              "      <td>319733</td>\n",
              "      <td>HS-grad</td>\n",
              "      <td>9</td>\n",
              "      <td>Married-civ-spouse</td>\n",
              "      <td>Craft-repair</td>\n",
              "      <td>Husband</td>\n",
              "      <td>White</td>\n",
              "      <td>Male</td>\n",
              "      <td>0</td>\n",
              "      <td>0</td>\n",
              "      <td>40</td>\n",
              "      <td>United-States</td>\n",
              "      <td>&lt;=50K</td>\n",
              "    </tr>\n",
              "    <tr>\n",
              "      <th>3</th>\n",
              "      <td>38</td>\n",
              "      <td>Unknown</td>\n",
              "      <td>365465</td>\n",
              "      <td>Assoc-voc</td>\n",
              "      <td>11</td>\n",
              "      <td>Never-married</td>\n",
              "      <td>Unknown</td>\n",
              "      <td>Own-child</td>\n",
              "      <td>White</td>\n",
              "      <td>Male</td>\n",
              "      <td>0</td>\n",
              "      <td>0</td>\n",
              "      <td>15</td>\n",
              "      <td>United-States</td>\n",
              "      <td>&lt;=50K</td>\n",
              "    </tr>\n",
              "    <tr>\n",
              "      <th>4</th>\n",
              "      <td>26</td>\n",
              "      <td>Self-emp-not-inc</td>\n",
              "      <td>33016</td>\n",
              "      <td>Assoc-voc</td>\n",
              "      <td>11</td>\n",
              "      <td>Divorced</td>\n",
              "      <td>Other-service</td>\n",
              "      <td>Unmarried</td>\n",
              "      <td>White</td>\n",
              "      <td>Female</td>\n",
              "      <td>0</td>\n",
              "      <td>0</td>\n",
              "      <td>55</td>\n",
              "      <td>United-States</td>\n",
              "      <td>&lt;=50K</td>\n",
              "    </tr>\n",
              "  </tbody>\n",
              "</table>\n",
              "</div>\n",
              "      <button class=\"colab-df-convert\" onclick=\"convertToInteractive('df-e5070e5f-d861-4a3f-a948-44861189f100')\"\n",
              "              title=\"Convert this dataframe to an interactive table.\"\n",
              "              style=\"display:none;\">\n",
              "        \n",
              "  <svg xmlns=\"http://www.w3.org/2000/svg\" height=\"24px\"viewBox=\"0 0 24 24\"\n",
              "       width=\"24px\">\n",
              "    <path d=\"M0 0h24v24H0V0z\" fill=\"none\"/>\n",
              "    <path d=\"M18.56 5.44l.94 2.06.94-2.06 2.06-.94-2.06-.94-.94-2.06-.94 2.06-2.06.94zm-11 1L8.5 8.5l.94-2.06 2.06-.94-2.06-.94L8.5 2.5l-.94 2.06-2.06.94zm10 10l.94 2.06.94-2.06 2.06-.94-2.06-.94-.94-2.06-.94 2.06-2.06.94z\"/><path d=\"M17.41 7.96l-1.37-1.37c-.4-.4-.92-.59-1.43-.59-.52 0-1.04.2-1.43.59L10.3 9.45l-7.72 7.72c-.78.78-.78 2.05 0 2.83L4 21.41c.39.39.9.59 1.41.59.51 0 1.02-.2 1.41-.59l7.78-7.78 2.81-2.81c.8-.78.8-2.07 0-2.86zM5.41 20L4 18.59l7.72-7.72 1.47 1.35L5.41 20z\"/>\n",
              "  </svg>\n",
              "      </button>\n",
              "      \n",
              "  <style>\n",
              "    .colab-df-container {\n",
              "      display:flex;\n",
              "      flex-wrap:wrap;\n",
              "      gap: 12px;\n",
              "    }\n",
              "\n",
              "    .colab-df-convert {\n",
              "      background-color: #E8F0FE;\n",
              "      border: none;\n",
              "      border-radius: 50%;\n",
              "      cursor: pointer;\n",
              "      display: none;\n",
              "      fill: #1967D2;\n",
              "      height: 32px;\n",
              "      padding: 0 0 0 0;\n",
              "      width: 32px;\n",
              "    }\n",
              "\n",
              "    .colab-df-convert:hover {\n",
              "      background-color: #E2EBFA;\n",
              "      box-shadow: 0px 1px 2px rgba(60, 64, 67, 0.3), 0px 1px 3px 1px rgba(60, 64, 67, 0.15);\n",
              "      fill: #174EA6;\n",
              "    }\n",
              "\n",
              "    [theme=dark] .colab-df-convert {\n",
              "      background-color: #3B4455;\n",
              "      fill: #D2E3FC;\n",
              "    }\n",
              "\n",
              "    [theme=dark] .colab-df-convert:hover {\n",
              "      background-color: #434B5C;\n",
              "      box-shadow: 0px 1px 3px 1px rgba(0, 0, 0, 0.15);\n",
              "      filter: drop-shadow(0px 1px 2px rgba(0, 0, 0, 0.3));\n",
              "      fill: #FFFFFF;\n",
              "    }\n",
              "  </style>\n",
              "\n",
              "      <script>\n",
              "        const buttonEl =\n",
              "          document.querySelector('#df-e5070e5f-d861-4a3f-a948-44861189f100 button.colab-df-convert');\n",
              "        buttonEl.style.display =\n",
              "          google.colab.kernel.accessAllowed ? 'block' : 'none';\n",
              "\n",
              "        async function convertToInteractive(key) {\n",
              "          const element = document.querySelector('#df-e5070e5f-d861-4a3f-a948-44861189f100');\n",
              "          const dataTable =\n",
              "            await google.colab.kernel.invokeFunction('convertToInteractive',\n",
              "                                                     [key], {});\n",
              "          if (!dataTable) return;\n",
              "\n",
              "          const docLinkHtml = 'Like what you see? Visit the ' +\n",
              "            '<a target=\"_blank\" href=https://colab.research.google.com/notebooks/data_table.ipynb>data table notebook</a>'\n",
              "            + ' to learn more about interactive tables.';\n",
              "          element.innerHTML = '';\n",
              "          dataTable['output_type'] = 'display_data';\n",
              "          await google.colab.output.renderOutput(dataTable, element);\n",
              "          const docLink = document.createElement('div');\n",
              "          docLink.innerHTML = docLinkHtml;\n",
              "          element.appendChild(docLink);\n",
              "        }\n",
              "      </script>\n",
              "    </div>\n",
              "  </div>\n",
              "  "
            ]
          },
          "metadata": {},
          "execution_count": 2
        }
      ],
      "source": [
        "\n",
        "import os\n",
        "import pandas as pd\n",
        "import numpy as np\n",
        "\n",
        "\n",
        "census_column_names=['age','workclass','fnlwgt','education','education-num',\n",
        "                      'marital-status','occupation','relationship','race','sex',\n",
        "                      'capital-gain','capital-loss','hours-per-week','native-country',\n",
        "                      'annual-income']\n",
        "\n",
        "CENSUS_PATH=\"datasets\"\n",
        "\n",
        "def load_census_data(census_path=CENSUS_PATH):\n",
        "    csv_path = os.path.join(census_path,\"census_dataset.csv\")\n",
        "    return pd.read_csv(csv_path,names=census_column_names)\n",
        "\n",
        "census_data = load_census_data()\n",
        "\n",
        "census_data.head()"
      ]
    },
    {
      "cell_type": "code",
      "source": [
        "#Determine the number and types of features.\n",
        "census_data.info()"
      ],
      "metadata": {
        "colab": {
          "base_uri": "https://localhost:8080/"
        },
        "id": "UHd9L5z-7Egw",
        "outputId": "134f547f-83ef-47df-99dc-21ec446bd9fe"
      },
      "execution_count": null,
      "outputs": [
        {
          "output_type": "stream",
          "name": "stdout",
          "text": [
            "<class 'pandas.core.frame.DataFrame'>\n",
            "RangeIndex: 27482 entries, 0 to 27481\n",
            "Data columns (total 15 columns):\n",
            " #   Column          Non-Null Count  Dtype \n",
            "---  ------          --------------  ----- \n",
            " 0   age             27482 non-null  int64 \n",
            " 1   workclass       27482 non-null  object\n",
            " 2   fnlwgt          27482 non-null  int64 \n",
            " 3   education       27482 non-null  object\n",
            " 4   education-num   27482 non-null  int64 \n",
            " 5   marital-status  27482 non-null  object\n",
            " 6   occupation      27482 non-null  object\n",
            " 7   relationship    27482 non-null  object\n",
            " 8   race            27482 non-null  object\n",
            " 9   sex             27482 non-null  object\n",
            " 10  capital-gain    27482 non-null  int64 \n",
            " 11  capital-loss    27482 non-null  int64 \n",
            " 12  hours-per-week  27482 non-null  int64 \n",
            " 13  native-country  27482 non-null  object\n",
            " 14  annual-income   27482 non-null  object\n",
            "dtypes: int64(6), object(9)\n",
            "memory usage: 3.1+ MB\n"
          ]
        }
      ]
    },
    {
      "cell_type": "code",
      "source": [
        "#drop missing data\n",
        "census_data = census_data.dropna()\n",
        "print(len(census_data))"
      ],
      "metadata": {
        "colab": {
          "base_uri": "https://localhost:8080/"
        },
        "id": "FcV23X7Ws-G5",
        "outputId": "d813764f-bd7f-429a-b665-22a5f827587c"
      },
      "execution_count": null,
      "outputs": [
        {
          "output_type": "stream",
          "name": "stdout",
          "text": [
            "27482\n"
          ]
        }
      ]
    },
    {
      "cell_type": "code",
      "source": [
        "#Determine the number of classes and their prevalence in the dataset. In this case, the prevalence is not balanced, people with a annual income of <50k is of 72% prevalence and people with a annual income of >50k is of 28% prevalence\n",
        "census_data['annual-income'].value_counts()"
      ],
      "metadata": {
        "colab": {
          "base_uri": "https://localhost:8080/"
        },
        "id": "ZqAM9rE57QmJ",
        "outputId": "37061191-191f-42e0-9b10-c1b1a1665eb8"
      },
      "execution_count": null,
      "outputs": [
        {
          "output_type": "execute_result",
          "data": {
            "text/plain": [
              "<=50K    19915\n",
              ">50K      7567\n",
              "Name: annual-income, dtype: int64"
            ]
          },
          "metadata": {},
          "execution_count": 5
        }
      ]
    },
    {
      "cell_type": "code",
      "source": [
        "#performing Random Undersampling to balance\n",
        "from imblearn.under_sampling import RandomUnderSampler\n",
        "\n",
        "X = census_data.drop(['annual-income'],axis=1)\n",
        "Y = census_data['annual-income']\n",
        "\n",
        "rus = RandomUnderSampler(sampling_strategy=\"not minority\", random_state = 23800756)\n",
        "X_res, Y_res = rus.fit_resample(X, Y)\n",
        "\n",
        "census_data = pd.merge(X_res, Y_res, left_index=True, right_index=True)"
      ],
      "metadata": {
        "id": "PgQkhVgCjY3l"
      },
      "execution_count": null,
      "outputs": []
    },
    {
      "cell_type": "markdown",
      "source": [
        "Balanced data (randomly undersample the people with <=50k)"
      ],
      "metadata": {
        "id": "TN8iq4kzwTy9"
      }
    },
    {
      "cell_type": "code",
      "source": [
        "census_data['annual-income'].value_counts()"
      ],
      "metadata": {
        "colab": {
          "base_uri": "https://localhost:8080/"
        },
        "id": "yYR1np3hvIDH",
        "outputId": "b6497e7d-cf1a-4c51-817f-22b414aa917c"
      },
      "execution_count": null,
      "outputs": [
        {
          "output_type": "execute_result",
          "data": {
            "text/plain": [
              "<=50K    7567\n",
              ">50K     7567\n",
              "Name: annual-income, dtype: int64"
            ]
          },
          "metadata": {},
          "execution_count": 7
        }
      ]
    },
    {
      "cell_type": "code",
      "source": [
        "#Perform a stratified split of the data into training/validation/test sets, 60%/20%/20%.\n",
        "from sklearn.model_selection import StratifiedShuffleSplit\n",
        "\n",
        "sssplit = StratifiedShuffleSplit(n_splits=20, test_size=0.4, random_state=23800756)\n",
        "for train_index, temp_index in sssplit.split(census_data, census_data['annual-income']):\n",
        "    strat_train_set = census_data.iloc[train_index]\n",
        "    temp_set = census_data.iloc[temp_index]\n",
        "\n",
        "sssplit2 = StratifiedShuffleSplit(n_splits=20, test_size=0.5, random_state=23800756)\n",
        "for test_index, valid_index in sssplit2.split(temp_set, temp_set['annual-income']):\n",
        "    strat_test_set = temp_set.iloc[test_index]\n",
        "    strat_valid_set = temp_set.iloc[valid_index]"
      ],
      "metadata": {
        "id": "B__Wg6gaLnA2"
      },
      "execution_count": null,
      "outputs": []
    },
    {
      "cell_type": "code",
      "source": [
        "#check stratification on training set\n",
        "strat_train_set['annual-income'].value_counts()/len(strat_train_set)"
      ],
      "metadata": {
        "id": "dAe__YaMMAjt",
        "colab": {
          "base_uri": "https://localhost:8080/"
        },
        "outputId": "57800d4b-42a2-47d0-a3a8-df55a6f4583e"
      },
      "execution_count": null,
      "outputs": [
        {
          "output_type": "execute_result",
          "data": {
            "text/plain": [
              ">50K     0.5\n",
              "<=50K    0.5\n",
              "Name: annual-income, dtype: float64"
            ]
          },
          "metadata": {},
          "execution_count": 9
        }
      ]
    },
    {
      "cell_type": "code",
      "source": [
        "#check stratification on test set\n",
        "strat_test_set['annual-income'].value_counts()/len(strat_test_set)"
      ],
      "metadata": {
        "colab": {
          "base_uri": "https://localhost:8080/"
        },
        "id": "h3JJMbdJOMf6",
        "outputId": "8887121e-1e2b-470f-ba66-fe0ffec1565b"
      },
      "execution_count": null,
      "outputs": [
        {
          "output_type": "execute_result",
          "data": {
            "text/plain": [
              ">50K     0.500165\n",
              "<=50K    0.499835\n",
              "Name: annual-income, dtype: float64"
            ]
          },
          "metadata": {},
          "execution_count": 10
        }
      ]
    },
    {
      "cell_type": "code",
      "source": [
        "#check stratification on valid set\n",
        "strat_valid_set['annual-income'].value_counts()/len(strat_valid_set)"
      ],
      "metadata": {
        "colab": {
          "base_uri": "https://localhost:8080/"
        },
        "id": "rftPd2NrOBZq",
        "outputId": "04f5c711-94ef-415e-ce3f-894906f8728f"
      },
      "execution_count": null,
      "outputs": [
        {
          "output_type": "execute_result",
          "data": {
            "text/plain": [
              "<=50K    0.500165\n",
              ">50K     0.499835\n",
              "Name: annual-income, dtype: float64"
            ]
          },
          "metadata": {},
          "execution_count": 11
        }
      ]
    },
    {
      "cell_type": "markdown",
      "source": [
        "Standardize the training/validation/test splits (fit on the training, then transform the validation/test sets). Use the standardized splits for the SVM models only."
      ],
      "metadata": {
        "id": "odWRtuB1AYZo"
      }
    },
    {
      "cell_type": "code",
      "source": [
        "from sklearn import preprocessing\n",
        "from sklearn.preprocessing import StandardScaler\n",
        "\n",
        "def pandas_convert_to_ordinal(original_df,cols,inplace=False):\n",
        "    if not inplace:\n",
        "        df=original_df.copy()\n",
        "    else:\n",
        "        df=original_df\n",
        "\n",
        "    for col in cols:\n",
        "        keys=df[col].drop_duplicates().to_list()\n",
        "        values=list(range(len(keys)))\n",
        "        df[col].replace(keys,values, inplace=True)\n",
        "\n",
        "    return df"
      ],
      "metadata": {
        "id": "tmb78dZFPZMJ"
      },
      "execution_count": null,
      "outputs": []
    },
    {
      "cell_type": "code",
      "source": [
        "strat_train_set_copy = strat_train_set.copy()\n",
        "strat_test_set_copy = strat_test_set.copy()\n",
        "strat_valid_set_copy = strat_valid_set.copy()"
      ],
      "metadata": {
        "id": "VSb6qs0Owr5U"
      },
      "execution_count": null,
      "outputs": []
    },
    {
      "cell_type": "code",
      "source": [
        "# setting non integers to integers usign ordinal\n",
        "# not sure if one-hot encoding necessary\n",
        "# strat_train_set= pandas_convert_to_ordinal(strat_train_set,['annual-income', 'workclass','education','marital-status','occupation','relationship','race','sex','native-country'],inplace=True)\n",
        "strat_train_set_copy= pandas_convert_to_ordinal(strat_train_set_copy,['annual-income'],inplace=True)\n",
        "strat_train_set_copy= pandas_convert_to_ordinal(strat_train_set_copy,['workclass'],inplace=True)\n",
        "strat_train_set_copy= pandas_convert_to_ordinal(strat_train_set_copy,['education'],inplace=True)\n",
        "strat_train_set_copy= pandas_convert_to_ordinal(strat_train_set_copy,['marital-status'],inplace=True)\n",
        "strat_train_set_copy= pandas_convert_to_ordinal(strat_train_set_copy,['occupation'],inplace=True)\n",
        "strat_train_set_copy= pandas_convert_to_ordinal(strat_train_set_copy,['relationship'],inplace=True)\n",
        "strat_train_set_copy= pandas_convert_to_ordinal(strat_train_set_copy,['race'],inplace=True)\n",
        "strat_train_set_copy= pandas_convert_to_ordinal(strat_train_set_copy,['sex'],inplace=True)\n",
        "strat_train_set_copy= pandas_convert_to_ordinal(strat_train_set_copy,['native-country'],inplace=True)\n",
        "\n",
        "strat_test_set_copy= pandas_convert_to_ordinal(strat_test_set_copy,['annual-income'],inplace=True)\n",
        "strat_test_set_copy= pandas_convert_to_ordinal(strat_test_set_copy,['workclass'],inplace=True)\n",
        "strat_test_set_copy= pandas_convert_to_ordinal(strat_test_set_copy,['education'],inplace=True)\n",
        "strat_test_set_copy= pandas_convert_to_ordinal(strat_test_set_copy,['marital-status'],inplace=True)\n",
        "strat_test_set_copy= pandas_convert_to_ordinal(strat_test_set_copy,['occupation'],inplace=True)\n",
        "strat_test_set_copy= pandas_convert_to_ordinal(strat_test_set_copy,['relationship'],inplace=True)\n",
        "strat_test_set_copy= pandas_convert_to_ordinal(strat_test_set_copy,['race'],inplace=True)\n",
        "strat_test_set_copy= pandas_convert_to_ordinal(strat_test_set_copy,['sex'],inplace=True)\n",
        "strat_test_set_copy= pandas_convert_to_ordinal(strat_test_set_copy,['native-country'],inplace=True)\n",
        "\n",
        "strat_valid_set_copy= pandas_convert_to_ordinal(strat_valid_set_copy,['annual-income'],inplace=True)\n",
        "strat_valid_set_copy= pandas_convert_to_ordinal(strat_valid_set_copy,['workclass'],inplace=True)\n",
        "strat_valid_set_copy= pandas_convert_to_ordinal(strat_valid_set_copy,['education'],inplace=True)\n",
        "strat_valid_set_copy= pandas_convert_to_ordinal(strat_valid_set_copy,['marital-status'],inplace=True)\n",
        "strat_valid_set_copy= pandas_convert_to_ordinal(strat_valid_set_copy,['occupation'],inplace=True)\n",
        "strat_valid_set_copy= pandas_convert_to_ordinal(strat_valid_set_copy,['relationship'],inplace=True)\n",
        "strat_valid_set_copy= pandas_convert_to_ordinal(strat_valid_set_copy,['race'],inplace=True)\n",
        "strat_valid_set_copy= pandas_convert_to_ordinal(strat_valid_set_copy,['sex'],inplace=True)\n",
        "strat_valid_set_copy= pandas_convert_to_ordinal(strat_valid_set_copy,['native-country'],inplace=True)"
      ],
      "metadata": {
        "id": "_08hDhiDAM3x"
      },
      "execution_count": null,
      "outputs": []
    },
    {
      "cell_type": "code",
      "source": [
        "strat_train_set_copy"
      ],
      "metadata": {
        "id": "JOneeK_pvDvr",
        "colab": {
          "base_uri": "https://localhost:8080/",
          "height": 423
        },
        "outputId": "0c818b51-c831-44a5-8110-04579b62af9e"
      },
      "execution_count": null,
      "outputs": [
        {
          "output_type": "execute_result",
          "data": {
            "text/plain": [
              "       age  workclass  fnlwgt  education  education-num  marital-status  \\\n",
              "11569   45          0   32356          0             13               0   \n",
              "3627    61          0  197286          1              5               0   \n",
              "9635    53          1  276868          2             10               0   \n",
              "12796   39          0  172186          2             10               0   \n",
              "105     35          0  348771          3              9               0   \n",
              "...    ...        ...     ...        ...            ...             ...   \n",
              "14864   64          1  341695          2             10               0   \n",
              "2753    25          0   51201          3              9               0   \n",
              "1146    68          0   67791          2             10               4   \n",
              "1173    37          0  168941          8              7               2   \n",
              "2985    38          0  216572          3              9               3   \n",
              "\n",
              "       occupation  relationship  race  sex  capital-gain  capital-loss  \\\n",
              "11569           0             0     0    0             0             0   \n",
              "3627            1             0     0    0             0             0   \n",
              "9635            2             0     0    0             0             0   \n",
              "12796           2             0     0    0             0             0   \n",
              "105             3             0     0    0             0             0   \n",
              "...           ...           ...   ...  ...           ...           ...   \n",
              "14864           7             4     0    1             0             0   \n",
              "2753            1             0     0    0             0             0   \n",
              "1146            0             3     0    0             0             0   \n",
              "1173            1             3     0    0             0             0   \n",
              "2985           10             2     3    1             0             0   \n",
              "\n",
              "       hours-per-week  native-country  annual-income  \n",
              "11569              55               0              0  \n",
              "3627               40               0              1  \n",
              "9635               40               0              0  \n",
              "12796              40               0              0  \n",
              "105                40               1              1  \n",
              "...               ...             ...            ...  \n",
              "14864              40               0              0  \n",
              "2753               35               0              1  \n",
              "1146               40               0              1  \n",
              "1173               40               0              1  \n",
              "2985               40               0              1  \n",
              "\n",
              "[9080 rows x 15 columns]"
            ],
            "text/html": [
              "\n",
              "  <div id=\"df-6936f1f0-8d3d-4f5b-8a0c-29fc290dd079\">\n",
              "    <div class=\"colab-df-container\">\n",
              "      <div>\n",
              "<style scoped>\n",
              "    .dataframe tbody tr th:only-of-type {\n",
              "        vertical-align: middle;\n",
              "    }\n",
              "\n",
              "    .dataframe tbody tr th {\n",
              "        vertical-align: top;\n",
              "    }\n",
              "\n",
              "    .dataframe thead th {\n",
              "        text-align: right;\n",
              "    }\n",
              "</style>\n",
              "<table border=\"1\" class=\"dataframe\">\n",
              "  <thead>\n",
              "    <tr style=\"text-align: right;\">\n",
              "      <th></th>\n",
              "      <th>age</th>\n",
              "      <th>workclass</th>\n",
              "      <th>fnlwgt</th>\n",
              "      <th>education</th>\n",
              "      <th>education-num</th>\n",
              "      <th>marital-status</th>\n",
              "      <th>occupation</th>\n",
              "      <th>relationship</th>\n",
              "      <th>race</th>\n",
              "      <th>sex</th>\n",
              "      <th>capital-gain</th>\n",
              "      <th>capital-loss</th>\n",
              "      <th>hours-per-week</th>\n",
              "      <th>native-country</th>\n",
              "      <th>annual-income</th>\n",
              "    </tr>\n",
              "  </thead>\n",
              "  <tbody>\n",
              "    <tr>\n",
              "      <th>11569</th>\n",
              "      <td>45</td>\n",
              "      <td>0</td>\n",
              "      <td>32356</td>\n",
              "      <td>0</td>\n",
              "      <td>13</td>\n",
              "      <td>0</td>\n",
              "      <td>0</td>\n",
              "      <td>0</td>\n",
              "      <td>0</td>\n",
              "      <td>0</td>\n",
              "      <td>0</td>\n",
              "      <td>0</td>\n",
              "      <td>55</td>\n",
              "      <td>0</td>\n",
              "      <td>0</td>\n",
              "    </tr>\n",
              "    <tr>\n",
              "      <th>3627</th>\n",
              "      <td>61</td>\n",
              "      <td>0</td>\n",
              "      <td>197286</td>\n",
              "      <td>1</td>\n",
              "      <td>5</td>\n",
              "      <td>0</td>\n",
              "      <td>1</td>\n",
              "      <td>0</td>\n",
              "      <td>0</td>\n",
              "      <td>0</td>\n",
              "      <td>0</td>\n",
              "      <td>0</td>\n",
              "      <td>40</td>\n",
              "      <td>0</td>\n",
              "      <td>1</td>\n",
              "    </tr>\n",
              "    <tr>\n",
              "      <th>9635</th>\n",
              "      <td>53</td>\n",
              "      <td>1</td>\n",
              "      <td>276868</td>\n",
              "      <td>2</td>\n",
              "      <td>10</td>\n",
              "      <td>0</td>\n",
              "      <td>2</td>\n",
              "      <td>0</td>\n",
              "      <td>0</td>\n",
              "      <td>0</td>\n",
              "      <td>0</td>\n",
              "      <td>0</td>\n",
              "      <td>40</td>\n",
              "      <td>0</td>\n",
              "      <td>0</td>\n",
              "    </tr>\n",
              "    <tr>\n",
              "      <th>12796</th>\n",
              "      <td>39</td>\n",
              "      <td>0</td>\n",
              "      <td>172186</td>\n",
              "      <td>2</td>\n",
              "      <td>10</td>\n",
              "      <td>0</td>\n",
              "      <td>2</td>\n",
              "      <td>0</td>\n",
              "      <td>0</td>\n",
              "      <td>0</td>\n",
              "      <td>0</td>\n",
              "      <td>0</td>\n",
              "      <td>40</td>\n",
              "      <td>0</td>\n",
              "      <td>0</td>\n",
              "    </tr>\n",
              "    <tr>\n",
              "      <th>105</th>\n",
              "      <td>35</td>\n",
              "      <td>0</td>\n",
              "      <td>348771</td>\n",
              "      <td>3</td>\n",
              "      <td>9</td>\n",
              "      <td>0</td>\n",
              "      <td>3</td>\n",
              "      <td>0</td>\n",
              "      <td>0</td>\n",
              "      <td>0</td>\n",
              "      <td>0</td>\n",
              "      <td>0</td>\n",
              "      <td>40</td>\n",
              "      <td>1</td>\n",
              "      <td>1</td>\n",
              "    </tr>\n",
              "    <tr>\n",
              "      <th>...</th>\n",
              "      <td>...</td>\n",
              "      <td>...</td>\n",
              "      <td>...</td>\n",
              "      <td>...</td>\n",
              "      <td>...</td>\n",
              "      <td>...</td>\n",
              "      <td>...</td>\n",
              "      <td>...</td>\n",
              "      <td>...</td>\n",
              "      <td>...</td>\n",
              "      <td>...</td>\n",
              "      <td>...</td>\n",
              "      <td>...</td>\n",
              "      <td>...</td>\n",
              "      <td>...</td>\n",
              "    </tr>\n",
              "    <tr>\n",
              "      <th>14864</th>\n",
              "      <td>64</td>\n",
              "      <td>1</td>\n",
              "      <td>341695</td>\n",
              "      <td>2</td>\n",
              "      <td>10</td>\n",
              "      <td>0</td>\n",
              "      <td>7</td>\n",
              "      <td>4</td>\n",
              "      <td>0</td>\n",
              "      <td>1</td>\n",
              "      <td>0</td>\n",
              "      <td>0</td>\n",
              "      <td>40</td>\n",
              "      <td>0</td>\n",
              "      <td>0</td>\n",
              "    </tr>\n",
              "    <tr>\n",
              "      <th>2753</th>\n",
              "      <td>25</td>\n",
              "      <td>0</td>\n",
              "      <td>51201</td>\n",
              "      <td>3</td>\n",
              "      <td>9</td>\n",
              "      <td>0</td>\n",
              "      <td>1</td>\n",
              "      <td>0</td>\n",
              "      <td>0</td>\n",
              "      <td>0</td>\n",
              "      <td>0</td>\n",
              "      <td>0</td>\n",
              "      <td>35</td>\n",
              "      <td>0</td>\n",
              "      <td>1</td>\n",
              "    </tr>\n",
              "    <tr>\n",
              "      <th>1146</th>\n",
              "      <td>68</td>\n",
              "      <td>0</td>\n",
              "      <td>67791</td>\n",
              "      <td>2</td>\n",
              "      <td>10</td>\n",
              "      <td>4</td>\n",
              "      <td>0</td>\n",
              "      <td>3</td>\n",
              "      <td>0</td>\n",
              "      <td>0</td>\n",
              "      <td>0</td>\n",
              "      <td>0</td>\n",
              "      <td>40</td>\n",
              "      <td>0</td>\n",
              "      <td>1</td>\n",
              "    </tr>\n",
              "    <tr>\n",
              "      <th>1173</th>\n",
              "      <td>37</td>\n",
              "      <td>0</td>\n",
              "      <td>168941</td>\n",
              "      <td>8</td>\n",
              "      <td>7</td>\n",
              "      <td>2</td>\n",
              "      <td>1</td>\n",
              "      <td>3</td>\n",
              "      <td>0</td>\n",
              "      <td>0</td>\n",
              "      <td>0</td>\n",
              "      <td>0</td>\n",
              "      <td>40</td>\n",
              "      <td>0</td>\n",
              "      <td>1</td>\n",
              "    </tr>\n",
              "    <tr>\n",
              "      <th>2985</th>\n",
              "      <td>38</td>\n",
              "      <td>0</td>\n",
              "      <td>216572</td>\n",
              "      <td>3</td>\n",
              "      <td>9</td>\n",
              "      <td>3</td>\n",
              "      <td>10</td>\n",
              "      <td>2</td>\n",
              "      <td>3</td>\n",
              "      <td>1</td>\n",
              "      <td>0</td>\n",
              "      <td>0</td>\n",
              "      <td>40</td>\n",
              "      <td>0</td>\n",
              "      <td>1</td>\n",
              "    </tr>\n",
              "  </tbody>\n",
              "</table>\n",
              "<p>9080 rows × 15 columns</p>\n",
              "</div>\n",
              "      <button class=\"colab-df-convert\" onclick=\"convertToInteractive('df-6936f1f0-8d3d-4f5b-8a0c-29fc290dd079')\"\n",
              "              title=\"Convert this dataframe to an interactive table.\"\n",
              "              style=\"display:none;\">\n",
              "        \n",
              "  <svg xmlns=\"http://www.w3.org/2000/svg\" height=\"24px\"viewBox=\"0 0 24 24\"\n",
              "       width=\"24px\">\n",
              "    <path d=\"M0 0h24v24H0V0z\" fill=\"none\"/>\n",
              "    <path d=\"M18.56 5.44l.94 2.06.94-2.06 2.06-.94-2.06-.94-.94-2.06-.94 2.06-2.06.94zm-11 1L8.5 8.5l.94-2.06 2.06-.94-2.06-.94L8.5 2.5l-.94 2.06-2.06.94zm10 10l.94 2.06.94-2.06 2.06-.94-2.06-.94-.94-2.06-.94 2.06-2.06.94z\"/><path d=\"M17.41 7.96l-1.37-1.37c-.4-.4-.92-.59-1.43-.59-.52 0-1.04.2-1.43.59L10.3 9.45l-7.72 7.72c-.78.78-.78 2.05 0 2.83L4 21.41c.39.39.9.59 1.41.59.51 0 1.02-.2 1.41-.59l7.78-7.78 2.81-2.81c.8-.78.8-2.07 0-2.86zM5.41 20L4 18.59l7.72-7.72 1.47 1.35L5.41 20z\"/>\n",
              "  </svg>\n",
              "      </button>\n",
              "      \n",
              "  <style>\n",
              "    .colab-df-container {\n",
              "      display:flex;\n",
              "      flex-wrap:wrap;\n",
              "      gap: 12px;\n",
              "    }\n",
              "\n",
              "    .colab-df-convert {\n",
              "      background-color: #E8F0FE;\n",
              "      border: none;\n",
              "      border-radius: 50%;\n",
              "      cursor: pointer;\n",
              "      display: none;\n",
              "      fill: #1967D2;\n",
              "      height: 32px;\n",
              "      padding: 0 0 0 0;\n",
              "      width: 32px;\n",
              "    }\n",
              "\n",
              "    .colab-df-convert:hover {\n",
              "      background-color: #E2EBFA;\n",
              "      box-shadow: 0px 1px 2px rgba(60, 64, 67, 0.3), 0px 1px 3px 1px rgba(60, 64, 67, 0.15);\n",
              "      fill: #174EA6;\n",
              "    }\n",
              "\n",
              "    [theme=dark] .colab-df-convert {\n",
              "      background-color: #3B4455;\n",
              "      fill: #D2E3FC;\n",
              "    }\n",
              "\n",
              "    [theme=dark] .colab-df-convert:hover {\n",
              "      background-color: #434B5C;\n",
              "      box-shadow: 0px 1px 3px 1px rgba(0, 0, 0, 0.15);\n",
              "      filter: drop-shadow(0px 1px 2px rgba(0, 0, 0, 0.3));\n",
              "      fill: #FFFFFF;\n",
              "    }\n",
              "  </style>\n",
              "\n",
              "      <script>\n",
              "        const buttonEl =\n",
              "          document.querySelector('#df-6936f1f0-8d3d-4f5b-8a0c-29fc290dd079 button.colab-df-convert');\n",
              "        buttonEl.style.display =\n",
              "          google.colab.kernel.accessAllowed ? 'block' : 'none';\n",
              "\n",
              "        async function convertToInteractive(key) {\n",
              "          const element = document.querySelector('#df-6936f1f0-8d3d-4f5b-8a0c-29fc290dd079');\n",
              "          const dataTable =\n",
              "            await google.colab.kernel.invokeFunction('convertToInteractive',\n",
              "                                                     [key], {});\n",
              "          if (!dataTable) return;\n",
              "\n",
              "          const docLinkHtml = 'Like what you see? Visit the ' +\n",
              "            '<a target=\"_blank\" href=https://colab.research.google.com/notebooks/data_table.ipynb>data table notebook</a>'\n",
              "            + ' to learn more about interactive tables.';\n",
              "          element.innerHTML = '';\n",
              "          dataTable['output_type'] = 'display_data';\n",
              "          await google.colab.output.renderOutput(dataTable, element);\n",
              "          const docLink = document.createElement('div');\n",
              "          docLink.innerHTML = docLinkHtml;\n",
              "          element.appendChild(docLink);\n",
              "        }\n",
              "      </script>\n",
              "    </div>\n",
              "  </div>\n",
              "  "
            ]
          },
          "metadata": {},
          "execution_count": 15
        }
      ]
    },
    {
      "cell_type": "code",
      "source": [
        "strat_test_set_copy"
      ],
      "metadata": {
        "id": "o3ZaQzRawm0h",
        "colab": {
          "base_uri": "https://localhost:8080/",
          "height": 423
        },
        "outputId": "456742c7-1d9f-482b-beab-be1dc52b4afa"
      },
      "execution_count": null,
      "outputs": [
        {
          "output_type": "execute_result",
          "data": {
            "text/plain": [
              "       age  workclass  fnlwgt  education  education-num  marital-status  \\\n",
              "6524    21          0  177125          0             10               0   \n",
              "5020    29          1  267661          1             11               0   \n",
              "10826   51          1   61127          2              9               1   \n",
              "9731    52          1  183146          3              8               1   \n",
              "1588    36          0  107302          2              9               1   \n",
              "...    ...        ...     ...        ...            ...             ...   \n",
              "6604    50          0  189183          2              9               1   \n",
              "14328   47          6  215620          8             14               1   \n",
              "10823   41          0  188784          1             10               1   \n",
              "9732    60          0  240521          2              9               1   \n",
              "10740   43          0   34007          2              9               1   \n",
              "\n",
              "       occupation  relationship  race  sex  capital-gain  capital-loss  \\\n",
              "6524            0             0     0    0             0             0   \n",
              "5020            1             0     0    0             0             0   \n",
              "10826           1             1     0    0             0             0   \n",
              "9731            2             1     0    0             0             0   \n",
              "1588            3             1     0    0             0             0   \n",
              "...           ...           ...   ...  ...           ...           ...   \n",
              "6604            8             1     0    0             0             0   \n",
              "14328           2             1     0    0         15024             0   \n",
              "10823           9             1     0    0             0             0   \n",
              "9732            6             1     0    0          7298             0   \n",
              "10740           6             1     0    0             0             0   \n",
              "\n",
              "       hours-per-week  native-country  annual-income  \n",
              "6524               20               0              0  \n",
              "5020               75               0              0  \n",
              "10826              50               0              1  \n",
              "9731               50               0              1  \n",
              "1588               50               0              0  \n",
              "...               ...             ...            ...  \n",
              "6604               40               0              0  \n",
              "14328              55               0              1  \n",
              "10823              40               0              1  \n",
              "9732               40               0              1  \n",
              "10740              40               0              1  \n",
              "\n",
              "[3027 rows x 15 columns]"
            ],
            "text/html": [
              "\n",
              "  <div id=\"df-94b473bf-c664-475a-946e-148b3d00b907\">\n",
              "    <div class=\"colab-df-container\">\n",
              "      <div>\n",
              "<style scoped>\n",
              "    .dataframe tbody tr th:only-of-type {\n",
              "        vertical-align: middle;\n",
              "    }\n",
              "\n",
              "    .dataframe tbody tr th {\n",
              "        vertical-align: top;\n",
              "    }\n",
              "\n",
              "    .dataframe thead th {\n",
              "        text-align: right;\n",
              "    }\n",
              "</style>\n",
              "<table border=\"1\" class=\"dataframe\">\n",
              "  <thead>\n",
              "    <tr style=\"text-align: right;\">\n",
              "      <th></th>\n",
              "      <th>age</th>\n",
              "      <th>workclass</th>\n",
              "      <th>fnlwgt</th>\n",
              "      <th>education</th>\n",
              "      <th>education-num</th>\n",
              "      <th>marital-status</th>\n",
              "      <th>occupation</th>\n",
              "      <th>relationship</th>\n",
              "      <th>race</th>\n",
              "      <th>sex</th>\n",
              "      <th>capital-gain</th>\n",
              "      <th>capital-loss</th>\n",
              "      <th>hours-per-week</th>\n",
              "      <th>native-country</th>\n",
              "      <th>annual-income</th>\n",
              "    </tr>\n",
              "  </thead>\n",
              "  <tbody>\n",
              "    <tr>\n",
              "      <th>6524</th>\n",
              "      <td>21</td>\n",
              "      <td>0</td>\n",
              "      <td>177125</td>\n",
              "      <td>0</td>\n",
              "      <td>10</td>\n",
              "      <td>0</td>\n",
              "      <td>0</td>\n",
              "      <td>0</td>\n",
              "      <td>0</td>\n",
              "      <td>0</td>\n",
              "      <td>0</td>\n",
              "      <td>0</td>\n",
              "      <td>20</td>\n",
              "      <td>0</td>\n",
              "      <td>0</td>\n",
              "    </tr>\n",
              "    <tr>\n",
              "      <th>5020</th>\n",
              "      <td>29</td>\n",
              "      <td>1</td>\n",
              "      <td>267661</td>\n",
              "      <td>1</td>\n",
              "      <td>11</td>\n",
              "      <td>0</td>\n",
              "      <td>1</td>\n",
              "      <td>0</td>\n",
              "      <td>0</td>\n",
              "      <td>0</td>\n",
              "      <td>0</td>\n",
              "      <td>0</td>\n",
              "      <td>75</td>\n",
              "      <td>0</td>\n",
              "      <td>0</td>\n",
              "    </tr>\n",
              "    <tr>\n",
              "      <th>10826</th>\n",
              "      <td>51</td>\n",
              "      <td>1</td>\n",
              "      <td>61127</td>\n",
              "      <td>2</td>\n",
              "      <td>9</td>\n",
              "      <td>1</td>\n",
              "      <td>1</td>\n",
              "      <td>1</td>\n",
              "      <td>0</td>\n",
              "      <td>0</td>\n",
              "      <td>0</td>\n",
              "      <td>0</td>\n",
              "      <td>50</td>\n",
              "      <td>0</td>\n",
              "      <td>1</td>\n",
              "    </tr>\n",
              "    <tr>\n",
              "      <th>9731</th>\n",
              "      <td>52</td>\n",
              "      <td>1</td>\n",
              "      <td>183146</td>\n",
              "      <td>3</td>\n",
              "      <td>8</td>\n",
              "      <td>1</td>\n",
              "      <td>2</td>\n",
              "      <td>1</td>\n",
              "      <td>0</td>\n",
              "      <td>0</td>\n",
              "      <td>0</td>\n",
              "      <td>0</td>\n",
              "      <td>50</td>\n",
              "      <td>0</td>\n",
              "      <td>1</td>\n",
              "    </tr>\n",
              "    <tr>\n",
              "      <th>1588</th>\n",
              "      <td>36</td>\n",
              "      <td>0</td>\n",
              "      <td>107302</td>\n",
              "      <td>2</td>\n",
              "      <td>9</td>\n",
              "      <td>1</td>\n",
              "      <td>3</td>\n",
              "      <td>1</td>\n",
              "      <td>0</td>\n",
              "      <td>0</td>\n",
              "      <td>0</td>\n",
              "      <td>0</td>\n",
              "      <td>50</td>\n",
              "      <td>0</td>\n",
              "      <td>0</td>\n",
              "    </tr>\n",
              "    <tr>\n",
              "      <th>...</th>\n",
              "      <td>...</td>\n",
              "      <td>...</td>\n",
              "      <td>...</td>\n",
              "      <td>...</td>\n",
              "      <td>...</td>\n",
              "      <td>...</td>\n",
              "      <td>...</td>\n",
              "      <td>...</td>\n",
              "      <td>...</td>\n",
              "      <td>...</td>\n",
              "      <td>...</td>\n",
              "      <td>...</td>\n",
              "      <td>...</td>\n",
              "      <td>...</td>\n",
              "      <td>...</td>\n",
              "    </tr>\n",
              "    <tr>\n",
              "      <th>6604</th>\n",
              "      <td>50</td>\n",
              "      <td>0</td>\n",
              "      <td>189183</td>\n",
              "      <td>2</td>\n",
              "      <td>9</td>\n",
              "      <td>1</td>\n",
              "      <td>8</td>\n",
              "      <td>1</td>\n",
              "      <td>0</td>\n",
              "      <td>0</td>\n",
              "      <td>0</td>\n",
              "      <td>0</td>\n",
              "      <td>40</td>\n",
              "      <td>0</td>\n",
              "      <td>0</td>\n",
              "    </tr>\n",
              "    <tr>\n",
              "      <th>14328</th>\n",
              "      <td>47</td>\n",
              "      <td>6</td>\n",
              "      <td>215620</td>\n",
              "      <td>8</td>\n",
              "      <td>14</td>\n",
              "      <td>1</td>\n",
              "      <td>2</td>\n",
              "      <td>1</td>\n",
              "      <td>0</td>\n",
              "      <td>0</td>\n",
              "      <td>15024</td>\n",
              "      <td>0</td>\n",
              "      <td>55</td>\n",
              "      <td>0</td>\n",
              "      <td>1</td>\n",
              "    </tr>\n",
              "    <tr>\n",
              "      <th>10823</th>\n",
              "      <td>41</td>\n",
              "      <td>0</td>\n",
              "      <td>188784</td>\n",
              "      <td>1</td>\n",
              "      <td>10</td>\n",
              "      <td>1</td>\n",
              "      <td>9</td>\n",
              "      <td>1</td>\n",
              "      <td>0</td>\n",
              "      <td>0</td>\n",
              "      <td>0</td>\n",
              "      <td>0</td>\n",
              "      <td>40</td>\n",
              "      <td>0</td>\n",
              "      <td>1</td>\n",
              "    </tr>\n",
              "    <tr>\n",
              "      <th>9732</th>\n",
              "      <td>60</td>\n",
              "      <td>0</td>\n",
              "      <td>240521</td>\n",
              "      <td>2</td>\n",
              "      <td>9</td>\n",
              "      <td>1</td>\n",
              "      <td>6</td>\n",
              "      <td>1</td>\n",
              "      <td>0</td>\n",
              "      <td>0</td>\n",
              "      <td>7298</td>\n",
              "      <td>0</td>\n",
              "      <td>40</td>\n",
              "      <td>0</td>\n",
              "      <td>1</td>\n",
              "    </tr>\n",
              "    <tr>\n",
              "      <th>10740</th>\n",
              "      <td>43</td>\n",
              "      <td>0</td>\n",
              "      <td>34007</td>\n",
              "      <td>2</td>\n",
              "      <td>9</td>\n",
              "      <td>1</td>\n",
              "      <td>6</td>\n",
              "      <td>1</td>\n",
              "      <td>0</td>\n",
              "      <td>0</td>\n",
              "      <td>0</td>\n",
              "      <td>0</td>\n",
              "      <td>40</td>\n",
              "      <td>0</td>\n",
              "      <td>1</td>\n",
              "    </tr>\n",
              "  </tbody>\n",
              "</table>\n",
              "<p>3027 rows × 15 columns</p>\n",
              "</div>\n",
              "      <button class=\"colab-df-convert\" onclick=\"convertToInteractive('df-94b473bf-c664-475a-946e-148b3d00b907')\"\n",
              "              title=\"Convert this dataframe to an interactive table.\"\n",
              "              style=\"display:none;\">\n",
              "        \n",
              "  <svg xmlns=\"http://www.w3.org/2000/svg\" height=\"24px\"viewBox=\"0 0 24 24\"\n",
              "       width=\"24px\">\n",
              "    <path d=\"M0 0h24v24H0V0z\" fill=\"none\"/>\n",
              "    <path d=\"M18.56 5.44l.94 2.06.94-2.06 2.06-.94-2.06-.94-.94-2.06-.94 2.06-2.06.94zm-11 1L8.5 8.5l.94-2.06 2.06-.94-2.06-.94L8.5 2.5l-.94 2.06-2.06.94zm10 10l.94 2.06.94-2.06 2.06-.94-2.06-.94-.94-2.06-.94 2.06-2.06.94z\"/><path d=\"M17.41 7.96l-1.37-1.37c-.4-.4-.92-.59-1.43-.59-.52 0-1.04.2-1.43.59L10.3 9.45l-7.72 7.72c-.78.78-.78 2.05 0 2.83L4 21.41c.39.39.9.59 1.41.59.51 0 1.02-.2 1.41-.59l7.78-7.78 2.81-2.81c.8-.78.8-2.07 0-2.86zM5.41 20L4 18.59l7.72-7.72 1.47 1.35L5.41 20z\"/>\n",
              "  </svg>\n",
              "      </button>\n",
              "      \n",
              "  <style>\n",
              "    .colab-df-container {\n",
              "      display:flex;\n",
              "      flex-wrap:wrap;\n",
              "      gap: 12px;\n",
              "    }\n",
              "\n",
              "    .colab-df-convert {\n",
              "      background-color: #E8F0FE;\n",
              "      border: none;\n",
              "      border-radius: 50%;\n",
              "      cursor: pointer;\n",
              "      display: none;\n",
              "      fill: #1967D2;\n",
              "      height: 32px;\n",
              "      padding: 0 0 0 0;\n",
              "      width: 32px;\n",
              "    }\n",
              "\n",
              "    .colab-df-convert:hover {\n",
              "      background-color: #E2EBFA;\n",
              "      box-shadow: 0px 1px 2px rgba(60, 64, 67, 0.3), 0px 1px 3px 1px rgba(60, 64, 67, 0.15);\n",
              "      fill: #174EA6;\n",
              "    }\n",
              "\n",
              "    [theme=dark] .colab-df-convert {\n",
              "      background-color: #3B4455;\n",
              "      fill: #D2E3FC;\n",
              "    }\n",
              "\n",
              "    [theme=dark] .colab-df-convert:hover {\n",
              "      background-color: #434B5C;\n",
              "      box-shadow: 0px 1px 3px 1px rgba(0, 0, 0, 0.15);\n",
              "      filter: drop-shadow(0px 1px 2px rgba(0, 0, 0, 0.3));\n",
              "      fill: #FFFFFF;\n",
              "    }\n",
              "  </style>\n",
              "\n",
              "      <script>\n",
              "        const buttonEl =\n",
              "          document.querySelector('#df-94b473bf-c664-475a-946e-148b3d00b907 button.colab-df-convert');\n",
              "        buttonEl.style.display =\n",
              "          google.colab.kernel.accessAllowed ? 'block' : 'none';\n",
              "\n",
              "        async function convertToInteractive(key) {\n",
              "          const element = document.querySelector('#df-94b473bf-c664-475a-946e-148b3d00b907');\n",
              "          const dataTable =\n",
              "            await google.colab.kernel.invokeFunction('convertToInteractive',\n",
              "                                                     [key], {});\n",
              "          if (!dataTable) return;\n",
              "\n",
              "          const docLinkHtml = 'Like what you see? Visit the ' +\n",
              "            '<a target=\"_blank\" href=https://colab.research.google.com/notebooks/data_table.ipynb>data table notebook</a>'\n",
              "            + ' to learn more about interactive tables.';\n",
              "          element.innerHTML = '';\n",
              "          dataTable['output_type'] = 'display_data';\n",
              "          await google.colab.output.renderOutput(dataTable, element);\n",
              "          const docLink = document.createElement('div');\n",
              "          docLink.innerHTML = docLinkHtml;\n",
              "          element.appendChild(docLink);\n",
              "        }\n",
              "      </script>\n",
              "    </div>\n",
              "  </div>\n",
              "  "
            ]
          },
          "metadata": {},
          "execution_count": 16
        }
      ]
    },
    {
      "cell_type": "code",
      "source": [
        "strat_valid_set_copy"
      ],
      "metadata": {
        "id": "Y2jynbnUwoH0",
        "colab": {
          "base_uri": "https://localhost:8080/",
          "height": 423
        },
        "outputId": "e8810db3-eed5-4262-8f27-46a3054aa0d1"
      },
      "execution_count": null,
      "outputs": [
        {
          "output_type": "execute_result",
          "data": {
            "text/plain": [
              "       age  workclass  fnlwgt  education  education-num  marital-status  \\\n",
              "11821   53          0  266598          0              9               0   \n",
              "1535    36          1   51424          0              9               1   \n",
              "5499    67          2  126514          1             10               2   \n",
              "10399   54          3  144586          1             10               0   \n",
              "10738   42          4  367292          1             10               0   \n",
              "...    ...        ...     ...        ...            ...             ...   \n",
              "9677    36          1   52532          4             16               0   \n",
              "6296    41          3  163322          9              7               1   \n",
              "3394    23          4   96748          1             10               3   \n",
              "2233    44          3  212894          7              6               0   \n",
              "1039    23          3  444554          0              9               3   \n",
              "\n",
              "       occupation  relationship  race  sex  capital-gain  capital-loss  \\\n",
              "11821           0             0     0    0             0             0   \n",
              "1535            1             1     0    1             0             0   \n",
              "5499            2             2     0    1             0             0   \n",
              "10399           3             3     0    1             0             0   \n",
              "10738           4             0     0    0             0             0   \n",
              "...           ...           ...   ...  ...           ...           ...   \n",
              "9677            0             0     0    0             0          1887   \n",
              "6296            8             1     0    1             0             0   \n",
              "3394            0             4     0    0             0             0   \n",
              "2233           10             0     0    0             0             0   \n",
              "1039            6             4     0    0             0             0   \n",
              "\n",
              "       hours-per-week  native-country  annual-income  \n",
              "11821              40               0              0  \n",
              "1535               40               0              1  \n",
              "5499                4               0              1  \n",
              "10399              40               0              0  \n",
              "10738              40               0              0  \n",
              "...               ...             ...            ...  \n",
              "9677               50               0              0  \n",
              "6296               36               0              1  \n",
              "3394               10               0              1  \n",
              "2233               40              25              1  \n",
              "1039               50               0              1  \n",
              "\n",
              "[3027 rows x 15 columns]"
            ],
            "text/html": [
              "\n",
              "  <div id=\"df-9e6c1557-0419-496e-8674-824560be298a\">\n",
              "    <div class=\"colab-df-container\">\n",
              "      <div>\n",
              "<style scoped>\n",
              "    .dataframe tbody tr th:only-of-type {\n",
              "        vertical-align: middle;\n",
              "    }\n",
              "\n",
              "    .dataframe tbody tr th {\n",
              "        vertical-align: top;\n",
              "    }\n",
              "\n",
              "    .dataframe thead th {\n",
              "        text-align: right;\n",
              "    }\n",
              "</style>\n",
              "<table border=\"1\" class=\"dataframe\">\n",
              "  <thead>\n",
              "    <tr style=\"text-align: right;\">\n",
              "      <th></th>\n",
              "      <th>age</th>\n",
              "      <th>workclass</th>\n",
              "      <th>fnlwgt</th>\n",
              "      <th>education</th>\n",
              "      <th>education-num</th>\n",
              "      <th>marital-status</th>\n",
              "      <th>occupation</th>\n",
              "      <th>relationship</th>\n",
              "      <th>race</th>\n",
              "      <th>sex</th>\n",
              "      <th>capital-gain</th>\n",
              "      <th>capital-loss</th>\n",
              "      <th>hours-per-week</th>\n",
              "      <th>native-country</th>\n",
              "      <th>annual-income</th>\n",
              "    </tr>\n",
              "  </thead>\n",
              "  <tbody>\n",
              "    <tr>\n",
              "      <th>11821</th>\n",
              "      <td>53</td>\n",
              "      <td>0</td>\n",
              "      <td>266598</td>\n",
              "      <td>0</td>\n",
              "      <td>9</td>\n",
              "      <td>0</td>\n",
              "      <td>0</td>\n",
              "      <td>0</td>\n",
              "      <td>0</td>\n",
              "      <td>0</td>\n",
              "      <td>0</td>\n",
              "      <td>0</td>\n",
              "      <td>40</td>\n",
              "      <td>0</td>\n",
              "      <td>0</td>\n",
              "    </tr>\n",
              "    <tr>\n",
              "      <th>1535</th>\n",
              "      <td>36</td>\n",
              "      <td>1</td>\n",
              "      <td>51424</td>\n",
              "      <td>0</td>\n",
              "      <td>9</td>\n",
              "      <td>1</td>\n",
              "      <td>1</td>\n",
              "      <td>1</td>\n",
              "      <td>0</td>\n",
              "      <td>1</td>\n",
              "      <td>0</td>\n",
              "      <td>0</td>\n",
              "      <td>40</td>\n",
              "      <td>0</td>\n",
              "      <td>1</td>\n",
              "    </tr>\n",
              "    <tr>\n",
              "      <th>5499</th>\n",
              "      <td>67</td>\n",
              "      <td>2</td>\n",
              "      <td>126514</td>\n",
              "      <td>1</td>\n",
              "      <td>10</td>\n",
              "      <td>2</td>\n",
              "      <td>2</td>\n",
              "      <td>2</td>\n",
              "      <td>0</td>\n",
              "      <td>1</td>\n",
              "      <td>0</td>\n",
              "      <td>0</td>\n",
              "      <td>4</td>\n",
              "      <td>0</td>\n",
              "      <td>1</td>\n",
              "    </tr>\n",
              "    <tr>\n",
              "      <th>10399</th>\n",
              "      <td>54</td>\n",
              "      <td>3</td>\n",
              "      <td>144586</td>\n",
              "      <td>1</td>\n",
              "      <td>10</td>\n",
              "      <td>0</td>\n",
              "      <td>3</td>\n",
              "      <td>3</td>\n",
              "      <td>0</td>\n",
              "      <td>1</td>\n",
              "      <td>0</td>\n",
              "      <td>0</td>\n",
              "      <td>40</td>\n",
              "      <td>0</td>\n",
              "      <td>0</td>\n",
              "    </tr>\n",
              "    <tr>\n",
              "      <th>10738</th>\n",
              "      <td>42</td>\n",
              "      <td>4</td>\n",
              "      <td>367292</td>\n",
              "      <td>1</td>\n",
              "      <td>10</td>\n",
              "      <td>0</td>\n",
              "      <td>4</td>\n",
              "      <td>0</td>\n",
              "      <td>0</td>\n",
              "      <td>0</td>\n",
              "      <td>0</td>\n",
              "      <td>0</td>\n",
              "      <td>40</td>\n",
              "      <td>0</td>\n",
              "      <td>0</td>\n",
              "    </tr>\n",
              "    <tr>\n",
              "      <th>...</th>\n",
              "      <td>...</td>\n",
              "      <td>...</td>\n",
              "      <td>...</td>\n",
              "      <td>...</td>\n",
              "      <td>...</td>\n",
              "      <td>...</td>\n",
              "      <td>...</td>\n",
              "      <td>...</td>\n",
              "      <td>...</td>\n",
              "      <td>...</td>\n",
              "      <td>...</td>\n",
              "      <td>...</td>\n",
              "      <td>...</td>\n",
              "      <td>...</td>\n",
              "      <td>...</td>\n",
              "    </tr>\n",
              "    <tr>\n",
              "      <th>9677</th>\n",
              "      <td>36</td>\n",
              "      <td>1</td>\n",
              "      <td>52532</td>\n",
              "      <td>4</td>\n",
              "      <td>16</td>\n",
              "      <td>0</td>\n",
              "      <td>0</td>\n",
              "      <td>0</td>\n",
              "      <td>0</td>\n",
              "      <td>0</td>\n",
              "      <td>0</td>\n",
              "      <td>1887</td>\n",
              "      <td>50</td>\n",
              "      <td>0</td>\n",
              "      <td>0</td>\n",
              "    </tr>\n",
              "    <tr>\n",
              "      <th>6296</th>\n",
              "      <td>41</td>\n",
              "      <td>3</td>\n",
              "      <td>163322</td>\n",
              "      <td>9</td>\n",
              "      <td>7</td>\n",
              "      <td>1</td>\n",
              "      <td>8</td>\n",
              "      <td>1</td>\n",
              "      <td>0</td>\n",
              "      <td>1</td>\n",
              "      <td>0</td>\n",
              "      <td>0</td>\n",
              "      <td>36</td>\n",
              "      <td>0</td>\n",
              "      <td>1</td>\n",
              "    </tr>\n",
              "    <tr>\n",
              "      <th>3394</th>\n",
              "      <td>23</td>\n",
              "      <td>4</td>\n",
              "      <td>96748</td>\n",
              "      <td>1</td>\n",
              "      <td>10</td>\n",
              "      <td>3</td>\n",
              "      <td>0</td>\n",
              "      <td>4</td>\n",
              "      <td>0</td>\n",
              "      <td>0</td>\n",
              "      <td>0</td>\n",
              "      <td>0</td>\n",
              "      <td>10</td>\n",
              "      <td>0</td>\n",
              "      <td>1</td>\n",
              "    </tr>\n",
              "    <tr>\n",
              "      <th>2233</th>\n",
              "      <td>44</td>\n",
              "      <td>3</td>\n",
              "      <td>212894</td>\n",
              "      <td>7</td>\n",
              "      <td>6</td>\n",
              "      <td>0</td>\n",
              "      <td>10</td>\n",
              "      <td>0</td>\n",
              "      <td>0</td>\n",
              "      <td>0</td>\n",
              "      <td>0</td>\n",
              "      <td>0</td>\n",
              "      <td>40</td>\n",
              "      <td>25</td>\n",
              "      <td>1</td>\n",
              "    </tr>\n",
              "    <tr>\n",
              "      <th>1039</th>\n",
              "      <td>23</td>\n",
              "      <td>3</td>\n",
              "      <td>444554</td>\n",
              "      <td>0</td>\n",
              "      <td>9</td>\n",
              "      <td>3</td>\n",
              "      <td>6</td>\n",
              "      <td>4</td>\n",
              "      <td>0</td>\n",
              "      <td>0</td>\n",
              "      <td>0</td>\n",
              "      <td>0</td>\n",
              "      <td>50</td>\n",
              "      <td>0</td>\n",
              "      <td>1</td>\n",
              "    </tr>\n",
              "  </tbody>\n",
              "</table>\n",
              "<p>3027 rows × 15 columns</p>\n",
              "</div>\n",
              "      <button class=\"colab-df-convert\" onclick=\"convertToInteractive('df-9e6c1557-0419-496e-8674-824560be298a')\"\n",
              "              title=\"Convert this dataframe to an interactive table.\"\n",
              "              style=\"display:none;\">\n",
              "        \n",
              "  <svg xmlns=\"http://www.w3.org/2000/svg\" height=\"24px\"viewBox=\"0 0 24 24\"\n",
              "       width=\"24px\">\n",
              "    <path d=\"M0 0h24v24H0V0z\" fill=\"none\"/>\n",
              "    <path d=\"M18.56 5.44l.94 2.06.94-2.06 2.06-.94-2.06-.94-.94-2.06-.94 2.06-2.06.94zm-11 1L8.5 8.5l.94-2.06 2.06-.94-2.06-.94L8.5 2.5l-.94 2.06-2.06.94zm10 10l.94 2.06.94-2.06 2.06-.94-2.06-.94-.94-2.06-.94 2.06-2.06.94z\"/><path d=\"M17.41 7.96l-1.37-1.37c-.4-.4-.92-.59-1.43-.59-.52 0-1.04.2-1.43.59L10.3 9.45l-7.72 7.72c-.78.78-.78 2.05 0 2.83L4 21.41c.39.39.9.59 1.41.59.51 0 1.02-.2 1.41-.59l7.78-7.78 2.81-2.81c.8-.78.8-2.07 0-2.86zM5.41 20L4 18.59l7.72-7.72 1.47 1.35L5.41 20z\"/>\n",
              "  </svg>\n",
              "      </button>\n",
              "      \n",
              "  <style>\n",
              "    .colab-df-container {\n",
              "      display:flex;\n",
              "      flex-wrap:wrap;\n",
              "      gap: 12px;\n",
              "    }\n",
              "\n",
              "    .colab-df-convert {\n",
              "      background-color: #E8F0FE;\n",
              "      border: none;\n",
              "      border-radius: 50%;\n",
              "      cursor: pointer;\n",
              "      display: none;\n",
              "      fill: #1967D2;\n",
              "      height: 32px;\n",
              "      padding: 0 0 0 0;\n",
              "      width: 32px;\n",
              "    }\n",
              "\n",
              "    .colab-df-convert:hover {\n",
              "      background-color: #E2EBFA;\n",
              "      box-shadow: 0px 1px 2px rgba(60, 64, 67, 0.3), 0px 1px 3px 1px rgba(60, 64, 67, 0.15);\n",
              "      fill: #174EA6;\n",
              "    }\n",
              "\n",
              "    [theme=dark] .colab-df-convert {\n",
              "      background-color: #3B4455;\n",
              "      fill: #D2E3FC;\n",
              "    }\n",
              "\n",
              "    [theme=dark] .colab-df-convert:hover {\n",
              "      background-color: #434B5C;\n",
              "      box-shadow: 0px 1px 3px 1px rgba(0, 0, 0, 0.15);\n",
              "      filter: drop-shadow(0px 1px 2px rgba(0, 0, 0, 0.3));\n",
              "      fill: #FFFFFF;\n",
              "    }\n",
              "  </style>\n",
              "\n",
              "      <script>\n",
              "        const buttonEl =\n",
              "          document.querySelector('#df-9e6c1557-0419-496e-8674-824560be298a button.colab-df-convert');\n",
              "        buttonEl.style.display =\n",
              "          google.colab.kernel.accessAllowed ? 'block' : 'none';\n",
              "\n",
              "        async function convertToInteractive(key) {\n",
              "          const element = document.querySelector('#df-9e6c1557-0419-496e-8674-824560be298a');\n",
              "          const dataTable =\n",
              "            await google.colab.kernel.invokeFunction('convertToInteractive',\n",
              "                                                     [key], {});\n",
              "          if (!dataTable) return;\n",
              "\n",
              "          const docLinkHtml = 'Like what you see? Visit the ' +\n",
              "            '<a target=\"_blank\" href=https://colab.research.google.com/notebooks/data_table.ipynb>data table notebook</a>'\n",
              "            + ' to learn more about interactive tables.';\n",
              "          element.innerHTML = '';\n",
              "          dataTable['output_type'] = 'display_data';\n",
              "          await google.colab.output.renderOutput(dataTable, element);\n",
              "          const docLink = document.createElement('div');\n",
              "          docLink.innerHTML = docLinkHtml;\n",
              "          element.appendChild(docLink);\n",
              "        }\n",
              "      </script>\n",
              "    </div>\n",
              "  </div>\n",
              "  "
            ]
          },
          "metadata": {},
          "execution_count": 17
        }
      ]
    },
    {
      "cell_type": "code",
      "source": [
        "#dropping the target creating x and y\n",
        "X_train = strat_train_set_copy.drop(['annual-income'], axis=1)\n",
        "Y_train = strat_train_set_copy['annual-income']\n",
        "X_test = strat_test_set_copy.drop('annual-income',axis=1)\n",
        "Y_test = strat_test_set_copy['annual-income']\n",
        "X_valid = strat_valid_set_copy.drop('annual-income',axis=1)\n",
        "Y_valid = strat_valid_set_copy['annual-income']\n"
      ],
      "metadata": {
        "id": "MXgPuXKvCd78"
      },
      "execution_count": null,
      "outputs": []
    },
    {
      "cell_type": "code",
      "source": [
        "Y_train.value_counts().plot.pie(autopct='%.2f')\n",
        "\n",
        "#Where 0 is more than 50k, 1 is less than 50k"
      ],
      "metadata": {
        "colab": {
          "base_uri": "https://localhost:8080/",
          "height": 266
        },
        "id": "qyna5N5RigwZ",
        "outputId": "0ed74e73-3864-4380-ff28-9a22ca8e4be9"
      },
      "execution_count": null,
      "outputs": [
        {
          "output_type": "execute_result",
          "data": {
            "text/plain": [
              "<matplotlib.axes._subplots.AxesSubplot at 0x7f1ae50eb3d0>"
            ]
          },
          "metadata": {},
          "execution_count": 19
        },
        {
          "output_type": "display_data",
          "data": {
            "text/plain": [
              "<Figure size 432x288 with 1 Axes>"
            ],
            "image/png": "[encoded data removed]"
          },
          "metadata": {}
        }
      ]
    },
    {
      "cell_type": "code",
      "source": [
        "sc = StandardScaler(copy=False, with_mean=False)"
      ],
      "metadata": {
        "id": "0e1RO7sYgHQ_"
      },
      "execution_count": null,
      "outputs": []
    },
    {
      "cell_type": "code",
      "source": [
        "#Use the standardized splits for the SVM models only.\n",
        "\n",
        "pstrat_train_set = sc.fit_transform(X_train)\n",
        "pstrat_test_set = sc.transform (X_test)\n",
        "pstrat_valid_set = sc.transform (X_valid)\n",
        "\n",
        "preprocessedX_train = pd.DataFrame(pstrat_train_set)\n",
        "preprocessedX_test = pd.DataFrame(pstrat_test_set)\n",
        "preprocessedX_valid = pd.DataFrame(pstrat_valid_set)"
      ],
      "metadata": {
        "id": "BhInf2lBgP5x"
      },
      "execution_count": null,
      "outputs": []
    },
    {
      "cell_type": "code",
      "source": [
        "print(X_train)"
      ],
      "metadata": {
        "id": "E6DGuoAMm8AN",
        "colab": {
          "base_uri": "https://localhost:8080/"
        },
        "outputId": "85efceb8-ee6e-4a01-ae4b-19bd1eb28954"
      },
      "execution_count": null,
      "outputs": [
        {
          "output_type": "stream",
          "name": "stdout",
          "text": [
            "       age  workclass  fnlwgt  education  education-num  marital-status  \\\n",
            "11569   45          0   32356          0             13               0   \n",
            "3627    61          0  197286          1              5               0   \n",
            "9635    53          1  276868          2             10               0   \n",
            "12796   39          0  172186          2             10               0   \n",
            "105     35          0  348771          3              9               0   \n",
            "...    ...        ...     ...        ...            ...             ...   \n",
            "14864   64          1  341695          2             10               0   \n",
            "2753    25          0   51201          3              9               0   \n",
            "1146    68          0   67791          2             10               4   \n",
            "1173    37          0  168941          8              7               2   \n",
            "2985    38          0  216572          3              9               3   \n",
            "\n",
            "       occupation  relationship  race  sex  capital-gain  capital-loss  \\\n",
            "11569           0             0     0    0             0             0   \n",
            "3627            1             0     0    0             0             0   \n",
            "9635            2             0     0    0             0             0   \n",
            "12796           2             0     0    0             0             0   \n",
            "105             3             0     0    0             0             0   \n",
            "...           ...           ...   ...  ...           ...           ...   \n",
            "14864           7             4     0    1             0             0   \n",
            "2753            1             0     0    0             0             0   \n",
            "1146            0             3     0    0             0             0   \n",
            "1173            1             3     0    0             0             0   \n",
            "2985           10             2     3    1             0             0   \n",
            "\n",
            "       hours-per-week  native-country  \n",
            "11569              55               0  \n",
            "3627               40               0  \n",
            "9635               40               0  \n",
            "12796              40               0  \n",
            "105                40               1  \n",
            "...               ...             ...  \n",
            "14864              40               0  \n",
            "2753               35               0  \n",
            "1146               40               0  \n",
            "1173               40               0  \n",
            "2985               40               0  \n",
            "\n",
            "[9080 rows x 14 columns]\n"
          ]
        }
      ]
    },
    {
      "cell_type": "code",
      "source": [
        "print(preprocessedX_train)"
      ],
      "metadata": {
        "id": "qGVM3STWjNaW",
        "colab": {
          "base_uri": "https://localhost:8080/"
        },
        "outputId": "192c31f4-0917-4d24-a88d-af1d50436050"
      },
      "execution_count": null,
      "outputs": [
        {
          "output_type": "stream",
          "name": "stdout",
          "text": [
            "            0         1         2         3         4         5         6   \\\n",
            "0     3.501396  0.000000  0.311869  0.000000  5.072031  0.000000  0.000000   \n",
            "1     4.746337  0.000000  1.901575  0.313658  1.950781  0.000000  0.279525   \n",
            "2     4.123867  0.559851  2.668640  0.627317  3.901562  0.000000  0.559050   \n",
            "3     3.034543  0.000000  1.659645  0.627317  3.901562  0.000000  0.559050   \n",
            "4     2.723308  0.000000  3.361690  0.940975  3.511406  0.000000  0.838575   \n",
            "...        ...       ...       ...       ...       ...       ...       ...   \n",
            "9075  4.979763  0.559851  3.293487  0.627317  3.901562  0.000000  1.956675   \n",
            "9076  1.945220  0.000000  0.493510  0.940975  3.511406  0.000000  0.279525   \n",
            "9077  5.290999  0.000000  0.653415  0.627317  3.901562  4.006403  0.000000   \n",
            "9078  2.878926  0.000000  1.628367  2.509267  2.731094  2.003201  0.279525   \n",
            "9079  2.956735  0.000000  2.087467  0.940975  3.511406  3.004802  2.795249   \n",
            "\n",
            "           7         8         9    10   11        12        13  \n",
            "0     0.00000  0.000000  0.000000  0.0  0.0  4.549944  0.000000  \n",
            "1     0.00000  0.000000  0.000000  0.0  0.0  3.309050  0.000000  \n",
            "2     0.00000  0.000000  0.000000  0.0  0.0  3.309050  0.000000  \n",
            "3     0.00000  0.000000  0.000000  0.0  0.0  3.309050  0.000000  \n",
            "4     0.00000  0.000000  0.000000  0.0  0.0  3.309050  0.216518  \n",
            "...       ...       ...       ...  ...  ...       ...       ...  \n",
            "9075  2.67848  0.000000  2.285104  0.0  0.0  3.309050  0.000000  \n",
            "9076  0.00000  0.000000  0.000000  0.0  0.0  2.895419  0.000000  \n",
            "9077  2.00886  0.000000  0.000000  0.0  0.0  3.309050  0.000000  \n",
            "9078  2.00886  0.000000  0.000000  0.0  0.0  3.309050  0.000000  \n",
            "9079  1.33924  3.486591  2.285104  0.0  0.0  3.309050  0.000000  \n",
            "\n",
            "[9080 rows x 14 columns]\n"
          ]
        }
      ]
    },
    {
      "cell_type": "code",
      "source": [
        "print(Y_train)"
      ],
      "metadata": {
        "id": "5YwtIAl7m45F",
        "colab": {
          "base_uri": "https://localhost:8080/"
        },
        "outputId": "615d7fa5-c3fb-464c-af42-af81f4515390"
      },
      "execution_count": null,
      "outputs": [
        {
          "output_type": "stream",
          "name": "stdout",
          "text": [
            "11569    0\n",
            "3627     1\n",
            "9635     0\n",
            "12796    0\n",
            "105      1\n",
            "        ..\n",
            "14864    0\n",
            "2753     1\n",
            "1146     1\n",
            "1173     1\n",
            "2985     1\n",
            "Name: annual-income, Length: 9080, dtype: int64\n"
          ]
        }
      ]
    },
    {
      "cell_type": "markdown",
      "source": [
        "Part 1: Train Initial Models"
      ],
      "metadata": {
        "id": "xKd6hVzwUetq"
      }
    },
    {
      "cell_type": "markdown",
      "source": [
        "Training Naive Bayes, Suport Vector Machinem, Random Forest"
      ],
      "metadata": {
        "id": "oNOiwQriqVWK"
      }
    },
    {
      "cell_type": "code",
      "source": [
        "#train Naive Bayes model\n",
        "from sklearn.naive_bayes import GaussianNB\n",
        "from sklearn.metrics import accuracy_score\n",
        "gnb = GaussianNB()\n",
        "gnb.fit(X_train ,Y_train)\n",
        "#gnb.score(X_test, Y_test)\n",
        "\n",
        "gnb_Y_train = gnb.predict(X_train)\n",
        "accuracy_score(Y_train,gnb_Y_train)\n"
      ],
      "metadata": {
        "colab": {
          "base_uri": "https://localhost:8080/"
        },
        "id": "29PLP3yPUlz_",
        "outputId": "223e783f-19d2-48a7-e9fe-86446f42f829"
      },
      "execution_count": null,
      "outputs": [
        {
          "output_type": "execute_result",
          "data": {
            "text/plain": [
              "0.6186123348017621"
            ]
          },
          "metadata": {},
          "execution_count": 25
        }
      ]
    },
    {
      "cell_type": "code",
      "source": [
        "#train Support Vector Machine\n",
        "from sklearn import svm\n",
        "\n",
        "clf= svm.SVC()\n",
        "clf.fit(preprocessedX_train, Y_train)\n",
        "#clf.score(X_test, Y_test)\n",
        "\n",
        "svm_Y_train = clf.predict(preprocessedX_train)\n",
        "accuracy_score(Y_train,svm_Y_train)"
      ],
      "metadata": {
        "colab": {
          "base_uri": "https://localhost:8080/"
        },
        "id": "-2VZQk1NiKt-",
        "outputId": "89f21a9e-c879-4f4f-c750-477d0f8e69f5"
      },
      "execution_count": null,
      "outputs": [
        {
          "output_type": "execute_result",
          "data": {
            "text/plain": [
              "0.8288546255506608"
            ]
          },
          "metadata": {},
          "execution_count": 26
        }
      ]
    },
    {
      "cell_type": "code",
      "source": [
        "#train Random Forest\n",
        "from sklearn.ensemble import RandomForestClassifier\n",
        "#with n_estimators this is around 99.99\n",
        "rf = RandomForestClassifier(random_state=23800756)\n",
        "rf.fit(X_train, Y_train)\n",
        "#rf.score(X_test, Y_test)\n",
        "\n",
        "rf_Y_train = rf.predict(X_train)\n",
        "accuracy_score(Y_train,rf_Y_train)"
      ],
      "metadata": {
        "colab": {
          "base_uri": "https://localhost:8080/"
        },
        "id": "ijua8ynui3Cq",
        "outputId": "209997bc-e2b1-4cd5-91b9-ca3cf9f8a012"
      },
      "execution_count": null,
      "outputs": [
        {
          "output_type": "execute_result",
          "data": {
            "text/plain": [
              "1.0"
            ]
          },
          "metadata": {},
          "execution_count": 27
        }
      ]
    },
    {
      "cell_type": "code",
      "source": [
        "#peformance metric functions\n",
        "from sklearn.metrics import confusion_matrix, roc_auc_score, f1_score\n",
        "\n",
        "#A list of keys for the dictionary returned by p1_metrics\n",
        "metric_keys = ['auc','accuracy','sensitivity','specificity', 'precision']\n",
        "\n",
        "def p1_metrics(y_true,y_pred,include_cm=True):\n",
        "    cm = confusion_matrix(y_true,y_pred)\n",
        "    tn, fp, fn, tp = cm.ravel()\n",
        "\n",
        "    if include_cm:\n",
        "        return {\n",
        "            'auc': roc_auc_score(y_true,y_pred),\n",
        "            'f1': f1_score(y_true,y_pred),\n",
        "            'accuracy': (tp+tn)/np.sum(cm),\n",
        "            'sensitivity': tp/(tp+fn),\n",
        "            'specificity': tn/(tn+fp),\n",
        "            'precision': tp/(tp+fp),\n",
        "            'confusion_matrix': cm}\n",
        "    else:\n",
        "        return {\n",
        "            'auc': roc_auc_score(y_true,y_pred),\n",
        "            'f1': f1_score(y_true,y_pred),\n",
        "            'accuracy': (tp+tn)/np.sum(cm),\n",
        "            'sensitivity': tp/(tp+fn),\n",
        "            'specificity': tn/(tn+fp),\n",
        "            'precision': tp/(tp+fp)}\n",
        "\n",
        "#This wrapper can be used to return multiple performance metrics during cross-validation\n",
        "def p1_metrics_scorer(asd,X,y_true):\n",
        "    y_pred=asd.predict(X)\n",
        "    return p1_metrics(y_true,y_pred,include_cm=False)"
      ],
      "metadata": {
        "id": "KK5kDD5YmUt7"
      },
      "execution_count": null,
      "outputs": []
    },
    {
      "cell_type": "markdown",
      "source": [
        "Calculate the confusion matrix and report the following performance metrics on the training set: Accuracy, F1 Score, AUC, Sensitivity, Specificity, and Precision. You can use the function p1_metrics for this purpose. Are any of the models underfitting the data? Is so, why?"
      ],
      "metadata": {
        "id": "yDk6wwRWqQzU"
      }
    },
    {
      "cell_type": "code",
      "source": [
        "p1_metrics(Y_train,gnb_Y_train,include_cm=True)"
      ],
      "metadata": {
        "colab": {
          "base_uri": "https://localhost:8080/"
        },
        "id": "cXVIQ3FmpJSE",
        "outputId": "d31ffaf7-5601-4702-8461-3b65eff6f329"
      },
      "execution_count": null,
      "outputs": [
        {
          "output_type": "execute_result",
          "data": {
            "text/plain": [
              "{'auc': 0.6186123348017621,\n",
              " 'f1': 0.7107658899189845,\n",
              " 'accuracy': 0.6186123348017621,\n",
              " 'sensitivity': 0.9372246696035242,\n",
              " 'specificity': 0.3,\n",
              " 'precision': 0.5724471949414772,\n",
              " 'confusion_matrix': array([[1362, 3178],\n",
              "        [ 285, 4255]])}"
            ]
          },
          "metadata": {},
          "execution_count": 29
        }
      ]
    },
    {
      "cell_type": "markdown",
      "source": [
        "model underfitted. Hard time capturing relationship and low specificity"
      ],
      "metadata": {
        "id": "C5bmiaaH47Ov"
      }
    },
    {
      "cell_type": "code",
      "source": [
        "p1_metrics(Y_train,svm_Y_train,include_cm=True)"
      ],
      "metadata": {
        "colab": {
          "base_uri": "https://localhost:8080/"
        },
        "id": "k7mkAOeDpfvB",
        "outputId": "e36dff94-37f0-4bcc-f7b1-d727f722d784"
      },
      "execution_count": null,
      "outputs": [
        {
          "output_type": "execute_result",
          "data": {
            "text/plain": [
              "{'auc': 0.8288546255506608,\n",
              " 'f1': 0.8176484393334897,\n",
              " 'accuracy': 0.8288546255506608,\n",
              " 'sensitivity': 0.7674008810572687,\n",
              " 'specificity': 0.8903083700440528,\n",
              " 'precision': 0.8749372174786539,\n",
              " 'confusion_matrix': array([[4042,  498],\n",
              "        [1056, 3484]])}"
            ]
          },
          "metadata": {},
          "execution_count": 30
        }
      ]
    },
    {
      "cell_type": "markdown",
      "source": [],
      "metadata": {
        "id": "yBz8prfnN4ob"
      }
    },
    {
      "cell_type": "code",
      "source": [
        "p1_metrics(Y_train,rf_Y_train,include_cm=True)"
      ],
      "metadata": {
        "colab": {
          "base_uri": "https://localhost:8080/"
        },
        "id": "rZjG9CALpf3M",
        "outputId": "173a8e9c-06c4-4afb-c122-44e69d5ab47a"
      },
      "execution_count": null,
      "outputs": [
        {
          "output_type": "execute_result",
          "data": {
            "text/plain": [
              "{'auc': 1.0,\n",
              " 'f1': 1.0,\n",
              " 'accuracy': 1.0,\n",
              " 'sensitivity': 1.0,\n",
              " 'specificity': 1.0,\n",
              " 'precision': 1.0,\n",
              " 'confusion_matrix': array([[4540,    0],\n",
              "        [   0, 4540]])}"
            ]
          },
          "metadata": {},
          "execution_count": 31
        }
      ]
    },
    {
      "cell_type": "markdown",
      "source": [
        "Calculate the same metrics by applying the trained model to the validation set. Compare and contrast the errors each model makes in terms of each class."
      ],
      "metadata": {
        "id": "CQ8IvmRqqiu4"
      }
    },
    {
      "cell_type": "code",
      "source": [
        "gnb_Y_pred_valid = gnb.predict(X_valid)\n",
        "accuracy_score(Y_valid,gnb_Y_pred_valid)"
      ],
      "metadata": {
        "colab": {
          "base_uri": "https://localhost:8080/"
        },
        "id": "V2pqCuZUqjox",
        "outputId": "6bd0b87c-cb06-41dc-f6e3-65e0636f61b4"
      },
      "execution_count": null,
      "outputs": [
        {
          "output_type": "execute_result",
          "data": {
            "text/plain": [
              "0.6240502147340601"
            ]
          },
          "metadata": {},
          "execution_count": 32
        }
      ]
    },
    {
      "cell_type": "code",
      "source": [
        "svm_Y_pred_valid = clf.predict(preprocessedX_valid)\n",
        "accuracy_score(Y_valid,svm_Y_pred_valid)"
      ],
      "metadata": {
        "colab": {
          "base_uri": "https://localhost:8080/"
        },
        "id": "ZFHyo7YhyZTz",
        "outputId": "5850af95-f98a-400b-c697-1f66e48abc30"
      },
      "execution_count": null,
      "outputs": [
        {
          "output_type": "execute_result",
          "data": {
            "text/plain": [
              "0.8202841096795507"
            ]
          },
          "metadata": {},
          "execution_count": 33
        }
      ]
    },
    {
      "cell_type": "code",
      "source": [
        "rf_Y_pred_valid = rf.predict(X_valid)\n",
        "accuracy_score(Y_valid,rf_Y_pred_valid)"
      ],
      "metadata": {
        "colab": {
          "base_uri": "https://localhost:8080/"
        },
        "id": "8aDv0PdAyZa4",
        "outputId": "aa7c0642-f4e1-46e1-b877-0036b80bbcf4"
      },
      "execution_count": null,
      "outputs": [
        {
          "output_type": "execute_result",
          "data": {
            "text/plain": [
              "0.8149983481995375"
            ]
          },
          "metadata": {},
          "execution_count": 34
        }
      ]
    },
    {
      "cell_type": "code",
      "source": [
        "p1_metrics(Y_valid, gnb_Y_pred_valid,include_cm=True)"
      ],
      "metadata": {
        "colab": {
          "base_uri": "https://localhost:8080/"
        },
        "id": "CCKhLtKwysVr",
        "outputId": "230c69e9-b792-426c-f26b-e074ee81e3c5"
      },
      "execution_count": null,
      "outputs": [
        {
          "output_type": "execute_result",
          "data": {
            "text/plain": [
              "{'auc': 0.6239493303740982,\n",
              " 'f1': 0.7120445344129555,\n",
              " 'accuracy': 0.6240502147340601,\n",
              " 'sensitivity': 0.929326287978864,\n",
              " 'specificity': 0.3185723727693325,\n",
              " 'precision': 0.5771123872026251,\n",
              " 'confusion_matrix': array([[ 482, 1031],\n",
              "        [ 107, 1407]])}"
            ]
          },
          "metadata": {},
          "execution_count": 35
        }
      ]
    },
    {
      "cell_type": "code",
      "source": [
        "p1_metrics(Y_valid, svm_Y_pred_valid,include_cm=True)"
      ],
      "metadata": {
        "colab": {
          "base_uri": "https://localhost:8080/"
        },
        "id": "oWomh8MBysdj",
        "outputId": "d0c1816f-d1bd-4773-9251-2ff5e17bbfef"
      },
      "execution_count": null,
      "outputs": [
        {
          "output_type": "execute_result",
          "data": {
            "text/plain": [
              "{'auc': 0.820305044523858,\n",
              " 'f1': 0.8081805359661496,\n",
              " 'accuracy': 0.8202841096795507,\n",
              " 'sensitivity': 0.7569352708058125,\n",
              " 'specificity': 0.8836748182419035,\n",
              " 'precision': 0.8668683812405447,\n",
              " 'confusion_matrix': array([[1337,  176],\n",
              "        [ 368, 1146]])}"
            ]
          },
          "metadata": {},
          "execution_count": 36
        }
      ]
    },
    {
      "cell_type": "code",
      "source": [
        "p1_metrics(Y_valid, rf_Y_pred_valid,include_cm=True)"
      ],
      "metadata": {
        "colab": {
          "base_uri": "https://localhost:8080/"
        },
        "id": "tmrKsM2tyshV",
        "outputId": "cdb684f2-70d7-4cca-da10-e91701645f62"
      },
      "execution_count": null,
      "outputs": [
        {
          "output_type": "execute_result",
          "data": {
            "text/plain": [
              "{'auc': 0.8150238662546786,\n",
              " 'f1': 0.7995705082319255,\n",
              " 'accuracy': 0.8149983481995375,\n",
              " 'sensitivity': 0.73778071334214,\n",
              " 'specificity': 0.8922670191672174,\n",
              " 'precision': 0.87265625,\n",
              " 'confusion_matrix': array([[1350,  163],\n",
              "        [ 397, 1117]])}"
            ]
          },
          "metadata": {},
          "execution_count": 37
        }
      ]
    },
    {
      "cell_type": "markdown",
      "source": [
        "Gaussian Naive Bayes suffered from low specificity and precision, overall performance was bad\n",
        "Support Vector machine had all around good statistics, its lowest score was on the sensitivity\n",
        "Random Forest did pretty well"
      ],
      "metadata": {
        "id": "LODVrdWERT4E"
      }
    },
    {
      "cell_type": "markdown",
      "source": [
        "Part 2: Cross-Validation Models\n",
        "\n",
        "Split the non-test data (training + validation data) into stratified 5-folds for cross-validation purposes"
      ],
      "metadata": {
        "id": "9Jmkf6BT1JHH"
      }
    },
    {
      "cell_type": "code",
      "source": [
        "#5 folds\n",
        "from sklearn.model_selection import StratifiedKFold\n",
        "\n",
        "skf = StratifiedKFold(n_splits=5)\n",
        "\n",
        "skf"
      ],
      "metadata": {
        "colab": {
          "base_uri": "https://localhost:8080/"
        },
        "id": "Y3wqUgQ5ompo",
        "outputId": "8a8ce232-6082-4256-aa33-bc4c39354064"
      },
      "execution_count": null,
      "outputs": [
        {
          "output_type": "execute_result",
          "data": {
            "text/plain": [
              "StratifiedKFold(n_splits=5, random_state=None, shuffle=False)"
            ]
          },
          "metadata": {},
          "execution_count": 38
        }
      ]
    },
    {
      "cell_type": "code",
      "source": [
        "#getting non test data set 80%\n",
        "\n",
        "#non_test_data_set = pd.merge(strat_train_set_copy, strat_valid_set_copy, how=\"left\")\n",
        "non_test_data_set = strat_train_set_copy.append(strat_valid_set_copy)\n",
        "\n",
        "X_ntd = non_test_data_set.drop(['annual-income'], axis=1)\n",
        "Y_ntd = non_test_data_set['annual-income']"
      ],
      "metadata": {
        "id": "cE7C6g_R4lUg"
      },
      "execution_count": null,
      "outputs": []
    },
    {
      "cell_type": "code",
      "source": [
        "print(non_test_data_set)"
      ],
      "metadata": {
        "id": "DwyU7Qthw9t6",
        "colab": {
          "base_uri": "https://localhost:8080/"
        },
        "outputId": "76f960fd-a337-4bdf-dcba-844463fd80d3"
      },
      "execution_count": null,
      "outputs": [
        {
          "output_type": "stream",
          "name": "stdout",
          "text": [
            "       age  workclass  fnlwgt  education  education-num  marital-status  \\\n",
            "11569   45          0   32356          0             13               0   \n",
            "3627    61          0  197286          1              5               0   \n",
            "9635    53          1  276868          2             10               0   \n",
            "12796   39          0  172186          2             10               0   \n",
            "105     35          0  348771          3              9               0   \n",
            "...    ...        ...     ...        ...            ...             ...   \n",
            "9677    36          1   52532          4             16               0   \n",
            "6296    41          3  163322          9              7               1   \n",
            "3394    23          4   96748          1             10               3   \n",
            "2233    44          3  212894          7              6               0   \n",
            "1039    23          3  444554          0              9               3   \n",
            "\n",
            "       occupation  relationship  race  sex  capital-gain  capital-loss  \\\n",
            "11569           0             0     0    0             0             0   \n",
            "3627            1             0     0    0             0             0   \n",
            "9635            2             0     0    0             0             0   \n",
            "12796           2             0     0    0             0             0   \n",
            "105             3             0     0    0             0             0   \n",
            "...           ...           ...   ...  ...           ...           ...   \n",
            "9677            0             0     0    0             0          1887   \n",
            "6296            8             1     0    1             0             0   \n",
            "3394            0             4     0    0             0             0   \n",
            "2233           10             0     0    0             0             0   \n",
            "1039            6             4     0    0             0             0   \n",
            "\n",
            "       hours-per-week  native-country  annual-income  \n",
            "11569              55               0              0  \n",
            "3627               40               0              1  \n",
            "9635               40               0              0  \n",
            "12796              40               0              0  \n",
            "105                40               1              1  \n",
            "...               ...             ...            ...  \n",
            "9677               50               0              0  \n",
            "6296               36               0              1  \n",
            "3394               10               0              1  \n",
            "2233               40              25              1  \n",
            "1039               50               0              1  \n",
            "\n",
            "[12107 rows x 15 columns]\n"
          ]
        }
      ]
    },
    {
      "cell_type": "markdown",
      "source": [
        "Train NB, SVM, and RF models using 5-fold cross-validation."
      ],
      "metadata": {
        "id": "eD_bQDHEDC99"
      }
    },
    {
      "cell_type": "code",
      "source": [
        "\n",
        "skf.get_n_splits(X_ntd, Y_ntd)\n",
        "\n",
        "kfold = skf.split(X_ntd, Y_ntd)\n"
      ],
      "metadata": {
        "id": "G4PNL3mz_-ZO"
      },
      "execution_count": null,
      "outputs": []
    },
    {
      "cell_type": "code",
      "source": [
        "#Summarizes model performance results produced during cross-validation\n",
        "def collate_cv_results(cv_results,display=True):\n",
        "    cv_stats=dict()\n",
        "    for k in cv_results:\n",
        "        cv_stats[\"mean\"]=np.mean(cv_results)\n",
        "        cv_stats[\"std\"]=np.std(cv_results)\n",
        "        #if display:\n",
        "            #print(k,cv_stats[k+\"mean\"],\"(\"+str(cv_stats[k+\"std\"])+\")\")\n",
        "    return cv_stats"
      ],
      "metadata": {
        "id": "_oeoyZL8Cn93"
      },
      "execution_count": null,
      "outputs": []
    },
    {
      "cell_type": "code",
      "source": [
        "#using cross val score and then appending them for mean , std\n",
        "from sklearn.model_selection import cross_val_score\n",
        "\n",
        "cvresults_Gaussian = cross_val_score(GaussianNB(), X_train, Y_train)\n",
        "\n",
        "cvlistGaus = []\n",
        "\n",
        "for i in cvresults_Gaussian :\n",
        "  cvlistGaus.append(i)\n",
        "\n",
        "cvresults_SVC = cross_val_score(svm.SVC(), preprocessedX_train, Y_train)\n",
        "\n",
        "cvlistSVC = []\n",
        "\n",
        "for i in cvresults_SVC  :\n",
        "  cvlistSVC.append(i)\n",
        "\n",
        "cvresults_RF = cross_val_score(RandomForestClassifier(random_state=23800756), X_train, Y_train)\n",
        "\n",
        "cvlistRF = []\n",
        "\n",
        "for i in cvresults_RF :\n",
        "  cvlistRF.append(i)\n",
        "\n",
        "print(cvlistGaus, cvlistSVC, cvlistRF)\n"
      ],
      "metadata": {
        "id": "OTsItcQx3l1y",
        "colab": {
          "base_uri": "https://localhost:8080/",
          "height": 399
        },
        "outputId": "1c9b84bf-90c1-4543-bdf1-657c292ca8f7"
      },
      "execution_count": null,
      "outputs": [
        {
          "output_type": "error",
          "ename": "KeyboardInterrupt",
          "evalue": "ignored",
          "traceback": [
            "\u001b[0;31m---------------------------------------------------------------------------\u001b[0m",
            "\u001b[0;31mKeyboardInterrupt\u001b[0m                         Traceback (most recent call last)",
            "\u001b[0;32m<ipython-input-43-5aa936f8b728>\u001b[0m in \u001b[0;36m<module>\u001b[0;34m\u001b[0m\n\u001b[1;32m      9\u001b[0m   \u001b[0mcvlistGaus\u001b[0m\u001b[0;34m.\u001b[0m\u001b[0mappend\u001b[0m\u001b[0;34m(\u001b[0m\u001b[0mi\u001b[0m\u001b[0;34m)\u001b[0m\u001b[0;34m\u001b[0m\u001b[0;34m\u001b[0m\u001b[0m\n\u001b[1;32m     10\u001b[0m \u001b[0;34m\u001b[0m\u001b[0m\n\u001b[0;32m---> 11\u001b[0;31m \u001b[0mcvresults_SVC\u001b[0m \u001b[0;34m=\u001b[0m \u001b[0mcross_val_score\u001b[0m\u001b[0;34m(\u001b[0m\u001b[0msvm\u001b[0m\u001b[0;34m.\u001b[0m\u001b[0mSVC\u001b[0m\u001b[0;34m(\u001b[0m\u001b[0;34m)\u001b[0m\u001b[0;34m,\u001b[0m \u001b[0mpreprocessedX_train\u001b[0m\u001b[0;34m,\u001b[0m \u001b[0mY_train\u001b[0m\u001b[0;34m)\u001b[0m\u001b[0;34m\u001b[0m\u001b[0;34m\u001b[0m\u001b[0m\n\u001b[0m\u001b[1;32m     12\u001b[0m \u001b[0;34m\u001b[0m\u001b[0m\n\u001b[1;32m     13\u001b[0m \u001b[0mcvlistSVC\u001b[0m \u001b[0;34m=\u001b[0m \u001b[0;34m[\u001b[0m\u001b[0;34m]\u001b[0m\u001b[0;34m\u001b[0m\u001b[0;34m\u001b[0m\u001b[0m\n",
            "\u001b[0;32m/usr/local/lib/python3.7/dist-packages/sklearn/model_selection/_validation.py\u001b[0m in \u001b[0;36mcross_val_score\u001b[0;34m(estimator, X, y, groups, scoring, cv, n_jobs, verbose, fit_params, pre_dispatch, error_score)\u001b[0m\n\u001b[1;32m    518\u001b[0m         \u001b[0mfit_params\u001b[0m\u001b[0;34m=\u001b[0m\u001b[0mfit_params\u001b[0m\u001b[0;34m,\u001b[0m\u001b[0;34m\u001b[0m\u001b[0;34m\u001b[0m\u001b[0m\n\u001b[1;32m    519\u001b[0m         \u001b[0mpre_dispatch\u001b[0m\u001b[0;34m=\u001b[0m\u001b[0mpre_dispatch\u001b[0m\u001b[0;34m,\u001b[0m\u001b[0;34m\u001b[0m\u001b[0;34m\u001b[0m\u001b[0m\n\u001b[0;32m--> 520\u001b[0;31m         \u001b[0merror_score\u001b[0m\u001b[0;34m=\u001b[0m\u001b[0merror_score\u001b[0m\u001b[0;34m,\u001b[0m\u001b[0;34m\u001b[0m\u001b[0;34m\u001b[0m\u001b[0m\n\u001b[0m\u001b[1;32m    521\u001b[0m     )\n\u001b[1;32m    522\u001b[0m     \u001b[0;32mreturn\u001b[0m \u001b[0mcv_results\u001b[0m\u001b[0;34m[\u001b[0m\u001b[0;34m\"test_score\"\u001b[0m\u001b[0;34m]\u001b[0m\u001b[0;34m\u001b[0m\u001b[0;34m\u001b[0m\u001b[0m\n",
            "\u001b[0;32m/usr/local/lib/python3.7/dist-packages/sklearn/model_selection/_validation.py\u001b[0m in \u001b[0;36mcross_validate\u001b[0;34m(estimator, X, y, groups, scoring, cv, n_jobs, verbose, fit_params, pre_dispatch, return_train_score, return_estimator, error_score)\u001b[0m\n\u001b[1;32m    281\u001b[0m             \u001b[0merror_score\u001b[0m\u001b[0;34m=\u001b[0m\u001b[0merror_score\u001b[0m\u001b[0;34m,\u001b[0m\u001b[0;34m\u001b[0m\u001b[0;34m\u001b[0m\u001b[0m\n\u001b[1;32m    282\u001b[0m         )\n\u001b[0;32m--> 283\u001b[0;31m         \u001b[0;32mfor\u001b[0m \u001b[0mtrain\u001b[0m\u001b[0;34m,\u001b[0m \u001b[0mtest\u001b[0m \u001b[0;32min\u001b[0m \u001b[0mcv\u001b[0m\u001b[0;34m.\u001b[0m\u001b[0msplit\u001b[0m\u001b[0;34m(\u001b[0m\u001b[0mX\u001b[0m\u001b[0;34m,\u001b[0m \u001b[0my\u001b[0m\u001b[0;34m,\u001b[0m \u001b[0mgroups\u001b[0m\u001b[0;34m)\u001b[0m\u001b[0;34m\u001b[0m\u001b[0;34m\u001b[0m\u001b[0m\n\u001b[0m\u001b[1;32m    284\u001b[0m     )\n\u001b[1;32m    285\u001b[0m \u001b[0;34m\u001b[0m\u001b[0m\n",
            "\u001b[0;32m/usr/local/lib/python3.7/dist-packages/joblib/parallel.py\u001b[0m in \u001b[0;36m__call__\u001b[0;34m(self, iterable)\u001b[0m\n\u001b[1;32m   1086\u001b[0m                 \u001b[0mself\u001b[0m\u001b[0;34m.\u001b[0m\u001b[0m_iterating\u001b[0m \u001b[0;34m=\u001b[0m \u001b[0mself\u001b[0m\u001b[0;34m.\u001b[0m\u001b[0m_original_iterator\u001b[0m \u001b[0;32mis\u001b[0m \u001b[0;32mnot\u001b[0m \u001b[0;32mNone\u001b[0m\u001b[0;34m\u001b[0m\u001b[0;34m\u001b[0m\u001b[0m\n\u001b[1;32m   1087\u001b[0m \u001b[0;34m\u001b[0m\u001b[0m\n\u001b[0;32m-> 1088\u001b[0;31m             \u001b[0;32mwhile\u001b[0m \u001b[0mself\u001b[0m\u001b[0;34m.\u001b[0m\u001b[0mdispatch_one_batch\u001b[0m\u001b[0;34m(\u001b[0m\u001b[0miterator\u001b[0m\u001b[0;34m)\u001b[0m\u001b[0;34m:\u001b[0m\u001b[0;34m\u001b[0m\u001b[0;34m\u001b[0m\u001b[0m\n\u001b[0m\u001b[1;32m   1089\u001b[0m                 \u001b[0;32mpass\u001b[0m\u001b[0;34m\u001b[0m\u001b[0;34m\u001b[0m\u001b[0m\n\u001b[1;32m   1090\u001b[0m \u001b[0;34m\u001b[0m\u001b[0m\n",
            "\u001b[0;32m/usr/local/lib/python3.7/dist-packages/joblib/parallel.py\u001b[0m in \u001b[0;36mdispatch_one_batch\u001b[0;34m(self, iterator)\u001b[0m\n\u001b[1;32m    899\u001b[0m                 \u001b[0;32mreturn\u001b[0m \u001b[0;32mFalse\u001b[0m\u001b[0;34m\u001b[0m\u001b[0;34m\u001b[0m\u001b[0m\n\u001b[1;32m    900\u001b[0m             \u001b[0;32melse\u001b[0m\u001b[0;34m:\u001b[0m\u001b[0;34m\u001b[0m\u001b[0;34m\u001b[0m\u001b[0m\n\u001b[0;32m--> 901\u001b[0;31m                 \u001b[0mself\u001b[0m\u001b[0;34m.\u001b[0m\u001b[0m_dispatch\u001b[0m\u001b[0;34m(\u001b[0m\u001b[0mtasks\u001b[0m\u001b[0;34m)\u001b[0m\u001b[0;34m\u001b[0m\u001b[0;34m\u001b[0m\u001b[0m\n\u001b[0m\u001b[1;32m    902\u001b[0m                 \u001b[0;32mreturn\u001b[0m \u001b[0;32mTrue\u001b[0m\u001b[0;34m\u001b[0m\u001b[0;34m\u001b[0m\u001b[0m\n\u001b[1;32m    903\u001b[0m \u001b[0;34m\u001b[0m\u001b[0m\n",
            "\u001b[0;32m/usr/local/lib/python3.7/dist-packages/joblib/parallel.py\u001b[0m in \u001b[0;36m_dispatch\u001b[0;34m(self, batch)\u001b[0m\n\u001b[1;32m    817\u001b[0m         \u001b[0;32mwith\u001b[0m \u001b[0mself\u001b[0m\u001b[0;34m.\u001b[0m\u001b[0m_lock\u001b[0m\u001b[0;34m:\u001b[0m\u001b[0;34m\u001b[0m\u001b[0;34m\u001b[0m\u001b[0m\n\u001b[1;32m    818\u001b[0m             \u001b[0mjob_idx\u001b[0m \u001b[0;34m=\u001b[0m \u001b[0mlen\u001b[0m\u001b[0;34m(\u001b[0m\u001b[0mself\u001b[0m\u001b[0;34m.\u001b[0m\u001b[0m_jobs\u001b[0m\u001b[0;34m)\u001b[0m\u001b[0;34m\u001b[0m\u001b[0;34m\u001b[0m\u001b[0m\n\u001b[0;32m--> 819\u001b[0;31m             \u001b[0mjob\u001b[0m \u001b[0;34m=\u001b[0m \u001b[0mself\u001b[0m\u001b[0;34m.\u001b[0m\u001b[0m_backend\u001b[0m\u001b[0;34m.\u001b[0m\u001b[0mapply_async\u001b[0m\u001b[0;34m(\u001b[0m\u001b[0mbatch\u001b[0m\u001b[0;34m,\u001b[0m \u001b[0mcallback\u001b[0m\u001b[0;34m=\u001b[0m\u001b[0mcb\u001b[0m\u001b[0;34m)\u001b[0m\u001b[0;34m\u001b[0m\u001b[0;34m\u001b[0m\u001b[0m\n\u001b[0m\u001b[1;32m    820\u001b[0m             \u001b[0;31m# A job can complete so quickly than its callback is\u001b[0m\u001b[0;34m\u001b[0m\u001b[0;34m\u001b[0m\u001b[0;34m\u001b[0m\u001b[0m\n\u001b[1;32m    821\u001b[0m             \u001b[0;31m# called before we get here, causing self._jobs to\u001b[0m\u001b[0;34m\u001b[0m\u001b[0;34m\u001b[0m\u001b[0;34m\u001b[0m\u001b[0m\n",
            "\u001b[0;32m/usr/local/lib/python3.7/dist-packages/joblib/_parallel_backends.py\u001b[0m in \u001b[0;36mapply_async\u001b[0;34m(self, func, callback)\u001b[0m\n\u001b[1;32m    206\u001b[0m     \u001b[0;32mdef\u001b[0m \u001b[0mapply_async\u001b[0m\u001b[0;34m(\u001b[0m\u001b[0mself\u001b[0m\u001b[0;34m,\u001b[0m \u001b[0mfunc\u001b[0m\u001b[0;34m,\u001b[0m \u001b[0mcallback\u001b[0m\u001b[0;34m=\u001b[0m\u001b[0;32mNone\u001b[0m\u001b[0;34m)\u001b[0m\u001b[0;34m:\u001b[0m\u001b[0;34m\u001b[0m\u001b[0;34m\u001b[0m\u001b[0m\n\u001b[1;32m    207\u001b[0m         \u001b[0;34m\"\"\"Schedule a func to be run\"\"\"\u001b[0m\u001b[0;34m\u001b[0m\u001b[0;34m\u001b[0m\u001b[0m\n\u001b[0;32m--> 208\u001b[0;31m         \u001b[0mresult\u001b[0m \u001b[0;34m=\u001b[0m \u001b[0mImmediateResult\u001b[0m\u001b[0;34m(\u001b[0m\u001b[0mfunc\u001b[0m\u001b[0;34m)\u001b[0m\u001b[0;34m\u001b[0m\u001b[0;34m\u001b[0m\u001b[0m\n\u001b[0m\u001b[1;32m    209\u001b[0m         \u001b[0;32mif\u001b[0m \u001b[0mcallback\u001b[0m\u001b[0;34m:\u001b[0m\u001b[0;34m\u001b[0m\u001b[0;34m\u001b[0m\u001b[0m\n\u001b[1;32m    210\u001b[0m             \u001b[0mcallback\u001b[0m\u001b[0;34m(\u001b[0m\u001b[0mresult\u001b[0m\u001b[0;34m)\u001b[0m\u001b[0;34m\u001b[0m\u001b[0;34m\u001b[0m\u001b[0m\n",
            "\u001b[0;32m/usr/local/lib/python3.7/dist-packages/joblib/_parallel_backends.py\u001b[0m in \u001b[0;36m__init__\u001b[0;34m(self, batch)\u001b[0m\n\u001b[1;32m    595\u001b[0m         \u001b[0;31m# Don't delay the application, to avoid keeping the input\u001b[0m\u001b[0;34m\u001b[0m\u001b[0;34m\u001b[0m\u001b[0;34m\u001b[0m\u001b[0m\n\u001b[1;32m    596\u001b[0m         \u001b[0;31m# arguments in memory\u001b[0m\u001b[0;34m\u001b[0m\u001b[0;34m\u001b[0m\u001b[0;34m\u001b[0m\u001b[0m\n\u001b[0;32m--> 597\u001b[0;31m         \u001b[0mself\u001b[0m\u001b[0;34m.\u001b[0m\u001b[0mresults\u001b[0m \u001b[0;34m=\u001b[0m \u001b[0mbatch\u001b[0m\u001b[0;34m(\u001b[0m\u001b[0;34m)\u001b[0m\u001b[0;34m\u001b[0m\u001b[0;34m\u001b[0m\u001b[0m\n\u001b[0m\u001b[1;32m    598\u001b[0m \u001b[0;34m\u001b[0m\u001b[0m\n\u001b[1;32m    599\u001b[0m     \u001b[0;32mdef\u001b[0m \u001b[0mget\u001b[0m\u001b[0;34m(\u001b[0m\u001b[0mself\u001b[0m\u001b[0;34m)\u001b[0m\u001b[0;34m:\u001b[0m\u001b[0;34m\u001b[0m\u001b[0;34m\u001b[0m\u001b[0m\n",
            "\u001b[0;32m/usr/local/lib/python3.7/dist-packages/joblib/parallel.py\u001b[0m in \u001b[0;36m__call__\u001b[0;34m(self)\u001b[0m\n\u001b[1;32m    287\u001b[0m         \u001b[0;32mwith\u001b[0m \u001b[0mparallel_backend\u001b[0m\u001b[0;34m(\u001b[0m\u001b[0mself\u001b[0m\u001b[0;34m.\u001b[0m\u001b[0m_backend\u001b[0m\u001b[0;34m,\u001b[0m \u001b[0mn_jobs\u001b[0m\u001b[0;34m=\u001b[0m\u001b[0mself\u001b[0m\u001b[0;34m.\u001b[0m\u001b[0m_n_jobs\u001b[0m\u001b[0;34m)\u001b[0m\u001b[0;34m:\u001b[0m\u001b[0;34m\u001b[0m\u001b[0;34m\u001b[0m\u001b[0m\n\u001b[1;32m    288\u001b[0m             return [func(*args, **kwargs)\n\u001b[0;32m--> 289\u001b[0;31m                     for func, args, kwargs in self.items]\n\u001b[0m\u001b[1;32m    290\u001b[0m \u001b[0;34m\u001b[0m\u001b[0m\n\u001b[1;32m    291\u001b[0m     \u001b[0;32mdef\u001b[0m \u001b[0m__reduce__\u001b[0m\u001b[0;34m(\u001b[0m\u001b[0mself\u001b[0m\u001b[0;34m)\u001b[0m\u001b[0;34m:\u001b[0m\u001b[0;34m\u001b[0m\u001b[0;34m\u001b[0m\u001b[0m\n",
            "\u001b[0;32m/usr/local/lib/python3.7/dist-packages/joblib/parallel.py\u001b[0m in \u001b[0;36m<listcomp>\u001b[0;34m(.0)\u001b[0m\n\u001b[1;32m    287\u001b[0m         \u001b[0;32mwith\u001b[0m \u001b[0mparallel_backend\u001b[0m\u001b[0;34m(\u001b[0m\u001b[0mself\u001b[0m\u001b[0;34m.\u001b[0m\u001b[0m_backend\u001b[0m\u001b[0;34m,\u001b[0m \u001b[0mn_jobs\u001b[0m\u001b[0;34m=\u001b[0m\u001b[0mself\u001b[0m\u001b[0;34m.\u001b[0m\u001b[0m_n_jobs\u001b[0m\u001b[0;34m)\u001b[0m\u001b[0;34m:\u001b[0m\u001b[0;34m\u001b[0m\u001b[0;34m\u001b[0m\u001b[0m\n\u001b[1;32m    288\u001b[0m             return [func(*args, **kwargs)\n\u001b[0;32m--> 289\u001b[0;31m                     for func, args, kwargs in self.items]\n\u001b[0m\u001b[1;32m    290\u001b[0m \u001b[0;34m\u001b[0m\u001b[0m\n\u001b[1;32m    291\u001b[0m     \u001b[0;32mdef\u001b[0m \u001b[0m__reduce__\u001b[0m\u001b[0;34m(\u001b[0m\u001b[0mself\u001b[0m\u001b[0;34m)\u001b[0m\u001b[0;34m:\u001b[0m\u001b[0;34m\u001b[0m\u001b[0;34m\u001b[0m\u001b[0m\n",
            "\u001b[0;32m/usr/local/lib/python3.7/dist-packages/sklearn/utils/fixes.py\u001b[0m in \u001b[0;36m__call__\u001b[0;34m(self, *args, **kwargs)\u001b[0m\n\u001b[1;32m    214\u001b[0m     \u001b[0;32mdef\u001b[0m \u001b[0m__call__\u001b[0m\u001b[0;34m(\u001b[0m\u001b[0mself\u001b[0m\u001b[0;34m,\u001b[0m \u001b[0;34m*\u001b[0m\u001b[0margs\u001b[0m\u001b[0;34m,\u001b[0m \u001b[0;34m**\u001b[0m\u001b[0mkwargs\u001b[0m\u001b[0;34m)\u001b[0m\u001b[0;34m:\u001b[0m\u001b[0;34m\u001b[0m\u001b[0;34m\u001b[0m\u001b[0m\n\u001b[1;32m    215\u001b[0m         \u001b[0;32mwith\u001b[0m \u001b[0mconfig_context\u001b[0m\u001b[0;34m(\u001b[0m\u001b[0;34m**\u001b[0m\u001b[0mself\u001b[0m\u001b[0;34m.\u001b[0m\u001b[0mconfig\u001b[0m\u001b[0;34m)\u001b[0m\u001b[0;34m:\u001b[0m\u001b[0;34m\u001b[0m\u001b[0;34m\u001b[0m\u001b[0m\n\u001b[0;32m--> 216\u001b[0;31m             \u001b[0;32mreturn\u001b[0m \u001b[0mself\u001b[0m\u001b[0;34m.\u001b[0m\u001b[0mfunction\u001b[0m\u001b[0;34m(\u001b[0m\u001b[0;34m*\u001b[0m\u001b[0margs\u001b[0m\u001b[0;34m,\u001b[0m \u001b[0;34m**\u001b[0m\u001b[0mkwargs\u001b[0m\u001b[0;34m)\u001b[0m\u001b[0;34m\u001b[0m\u001b[0;34m\u001b[0m\u001b[0m\n\u001b[0m\u001b[1;32m    217\u001b[0m \u001b[0;34m\u001b[0m\u001b[0m\n\u001b[1;32m    218\u001b[0m \u001b[0;34m\u001b[0m\u001b[0m\n",
            "\u001b[0;32m/usr/local/lib/python3.7/dist-packages/sklearn/model_selection/_validation.py\u001b[0m in \u001b[0;36m_fit_and_score\u001b[0;34m(estimator, X, y, scorer, train, test, verbose, parameters, fit_params, return_train_score, return_parameters, return_n_test_samples, return_times, return_estimator, split_progress, candidate_progress, error_score)\u001b[0m\n\u001b[1;32m    700\u001b[0m \u001b[0;34m\u001b[0m\u001b[0m\n\u001b[1;32m    701\u001b[0m         \u001b[0mfit_time\u001b[0m \u001b[0;34m=\u001b[0m \u001b[0mtime\u001b[0m\u001b[0;34m.\u001b[0m\u001b[0mtime\u001b[0m\u001b[0;34m(\u001b[0m\u001b[0;34m)\u001b[0m \u001b[0;34m-\u001b[0m \u001b[0mstart_time\u001b[0m\u001b[0;34m\u001b[0m\u001b[0;34m\u001b[0m\u001b[0m\n\u001b[0;32m--> 702\u001b[0;31m         \u001b[0mtest_scores\u001b[0m \u001b[0;34m=\u001b[0m \u001b[0m_score\u001b[0m\u001b[0;34m(\u001b[0m\u001b[0mestimator\u001b[0m\u001b[0;34m,\u001b[0m \u001b[0mX_test\u001b[0m\u001b[0;34m,\u001b[0m \u001b[0my_test\u001b[0m\u001b[0;34m,\u001b[0m \u001b[0mscorer\u001b[0m\u001b[0;34m,\u001b[0m \u001b[0merror_score\u001b[0m\u001b[0;34m)\u001b[0m\u001b[0;34m\u001b[0m\u001b[0;34m\u001b[0m\u001b[0m\n\u001b[0m\u001b[1;32m    703\u001b[0m         \u001b[0mscore_time\u001b[0m \u001b[0;34m=\u001b[0m \u001b[0mtime\u001b[0m\u001b[0;34m.\u001b[0m\u001b[0mtime\u001b[0m\u001b[0;34m(\u001b[0m\u001b[0;34m)\u001b[0m \u001b[0;34m-\u001b[0m \u001b[0mstart_time\u001b[0m \u001b[0;34m-\u001b[0m \u001b[0mfit_time\u001b[0m\u001b[0;34m\u001b[0m\u001b[0;34m\u001b[0m\u001b[0m\n\u001b[1;32m    704\u001b[0m         \u001b[0;32mif\u001b[0m \u001b[0mreturn_train_score\u001b[0m\u001b[0;34m:\u001b[0m\u001b[0;34m\u001b[0m\u001b[0;34m\u001b[0m\u001b[0m\n",
            "\u001b[0;32m/usr/local/lib/python3.7/dist-packages/sklearn/model_selection/_validation.py\u001b[0m in \u001b[0;36m_score\u001b[0;34m(estimator, X_test, y_test, scorer, error_score)\u001b[0m\n\u001b[1;32m    759\u001b[0m             \u001b[0mscores\u001b[0m \u001b[0;34m=\u001b[0m \u001b[0mscorer\u001b[0m\u001b[0;34m(\u001b[0m\u001b[0mestimator\u001b[0m\u001b[0;34m,\u001b[0m \u001b[0mX_test\u001b[0m\u001b[0;34m)\u001b[0m\u001b[0;34m\u001b[0m\u001b[0;34m\u001b[0m\u001b[0m\n\u001b[1;32m    760\u001b[0m         \u001b[0;32melse\u001b[0m\u001b[0;34m:\u001b[0m\u001b[0;34m\u001b[0m\u001b[0;34m\u001b[0m\u001b[0m\n\u001b[0;32m--> 761\u001b[0;31m             \u001b[0mscores\u001b[0m \u001b[0;34m=\u001b[0m \u001b[0mscorer\u001b[0m\u001b[0;34m(\u001b[0m\u001b[0mestimator\u001b[0m\u001b[0;34m,\u001b[0m \u001b[0mX_test\u001b[0m\u001b[0;34m,\u001b[0m \u001b[0my_test\u001b[0m\u001b[0;34m)\u001b[0m\u001b[0;34m\u001b[0m\u001b[0;34m\u001b[0m\u001b[0m\n\u001b[0m\u001b[1;32m    762\u001b[0m     \u001b[0;32mexcept\u001b[0m \u001b[0mException\u001b[0m\u001b[0;34m:\u001b[0m\u001b[0;34m\u001b[0m\u001b[0;34m\u001b[0m\u001b[0m\n\u001b[1;32m    763\u001b[0m         \u001b[0;32mif\u001b[0m \u001b[0merror_score\u001b[0m \u001b[0;34m==\u001b[0m \u001b[0;34m\"raise\"\u001b[0m\u001b[0;34m:\u001b[0m\u001b[0;34m\u001b[0m\u001b[0;34m\u001b[0m\u001b[0m\n",
            "\u001b[0;32m/usr/local/lib/python3.7/dist-packages/sklearn/metrics/_scorer.py\u001b[0m in \u001b[0;36m__call__\u001b[0;34m(self, estimator, *args, **kwargs)\u001b[0m\n\u001b[1;32m    103\u001b[0m                 \u001b[0mscore\u001b[0m \u001b[0;34m=\u001b[0m \u001b[0mscorer\u001b[0m\u001b[0;34m.\u001b[0m\u001b[0m_score\u001b[0m\u001b[0;34m(\u001b[0m\u001b[0mcached_call\u001b[0m\u001b[0;34m,\u001b[0m \u001b[0mestimator\u001b[0m\u001b[0;34m,\u001b[0m \u001b[0;34m*\u001b[0m\u001b[0margs\u001b[0m\u001b[0;34m,\u001b[0m \u001b[0;34m**\u001b[0m\u001b[0mkwargs\u001b[0m\u001b[0;34m)\u001b[0m\u001b[0;34m\u001b[0m\u001b[0;34m\u001b[0m\u001b[0m\n\u001b[1;32m    104\u001b[0m             \u001b[0;32melse\u001b[0m\u001b[0;34m:\u001b[0m\u001b[0;34m\u001b[0m\u001b[0;34m\u001b[0m\u001b[0m\n\u001b[0;32m--> 105\u001b[0;31m                 \u001b[0mscore\u001b[0m \u001b[0;34m=\u001b[0m \u001b[0mscorer\u001b[0m\u001b[0;34m(\u001b[0m\u001b[0mestimator\u001b[0m\u001b[0;34m,\u001b[0m \u001b[0;34m*\u001b[0m\u001b[0margs\u001b[0m\u001b[0;34m,\u001b[0m \u001b[0;34m**\u001b[0m\u001b[0mkwargs\u001b[0m\u001b[0;34m)\u001b[0m\u001b[0;34m\u001b[0m\u001b[0;34m\u001b[0m\u001b[0m\n\u001b[0m\u001b[1;32m    106\u001b[0m             \u001b[0mscores\u001b[0m\u001b[0;34m[\u001b[0m\u001b[0mname\u001b[0m\u001b[0;34m]\u001b[0m \u001b[0;34m=\u001b[0m \u001b[0mscore\u001b[0m\u001b[0;34m\u001b[0m\u001b[0;34m\u001b[0m\u001b[0m\n\u001b[1;32m    107\u001b[0m         \u001b[0;32mreturn\u001b[0m \u001b[0mscores\u001b[0m\u001b[0;34m\u001b[0m\u001b[0;34m\u001b[0m\u001b[0m\n",
            "\u001b[0;32m/usr/local/lib/python3.7/dist-packages/sklearn/metrics/_scorer.py\u001b[0m in \u001b[0;36m_passthrough_scorer\u001b[0;34m(estimator, *args, **kwargs)\u001b[0m\n\u001b[1;32m    416\u001b[0m \u001b[0;32mdef\u001b[0m \u001b[0m_passthrough_scorer\u001b[0m\u001b[0;34m(\u001b[0m\u001b[0mestimator\u001b[0m\u001b[0;34m,\u001b[0m \u001b[0;34m*\u001b[0m\u001b[0margs\u001b[0m\u001b[0;34m,\u001b[0m \u001b[0;34m**\u001b[0m\u001b[0mkwargs\u001b[0m\u001b[0;34m)\u001b[0m\u001b[0;34m:\u001b[0m\u001b[0;34m\u001b[0m\u001b[0;34m\u001b[0m\u001b[0m\n\u001b[1;32m    417\u001b[0m     \u001b[0;34m\"\"\"Function that wraps estimator.score\"\"\"\u001b[0m\u001b[0;34m\u001b[0m\u001b[0;34m\u001b[0m\u001b[0m\n\u001b[0;32m--> 418\u001b[0;31m     \u001b[0;32mreturn\u001b[0m \u001b[0mestimator\u001b[0m\u001b[0;34m.\u001b[0m\u001b[0mscore\u001b[0m\u001b[0;34m(\u001b[0m\u001b[0;34m*\u001b[0m\u001b[0margs\u001b[0m\u001b[0;34m,\u001b[0m \u001b[0;34m**\u001b[0m\u001b[0mkwargs\u001b[0m\u001b[0;34m)\u001b[0m\u001b[0;34m\u001b[0m\u001b[0;34m\u001b[0m\u001b[0m\n\u001b[0m\u001b[1;32m    419\u001b[0m \u001b[0;34m\u001b[0m\u001b[0m\n\u001b[1;32m    420\u001b[0m \u001b[0;34m\u001b[0m\u001b[0m\n",
            "\u001b[0;32m/usr/local/lib/python3.7/dist-packages/sklearn/base.py\u001b[0m in \u001b[0;36mscore\u001b[0;34m(self, X, y, sample_weight)\u001b[0m\n\u001b[1;32m    649\u001b[0m         \u001b[0;32mfrom\u001b[0m \u001b[0;34m.\u001b[0m\u001b[0mmetrics\u001b[0m \u001b[0;32mimport\u001b[0m \u001b[0maccuracy_score\u001b[0m\u001b[0;34m\u001b[0m\u001b[0;34m\u001b[0m\u001b[0m\n\u001b[1;32m    650\u001b[0m \u001b[0;34m\u001b[0m\u001b[0m\n\u001b[0;32m--> 651\u001b[0;31m         \u001b[0;32mreturn\u001b[0m \u001b[0maccuracy_score\u001b[0m\u001b[0;34m(\u001b[0m\u001b[0my\u001b[0m\u001b[0;34m,\u001b[0m \u001b[0mself\u001b[0m\u001b[0;34m.\u001b[0m\u001b[0mpredict\u001b[0m\u001b[0;34m(\u001b[0m\u001b[0mX\u001b[0m\u001b[0;34m)\u001b[0m\u001b[0;34m,\u001b[0m \u001b[0msample_weight\u001b[0m\u001b[0;34m=\u001b[0m\u001b[0msample_weight\u001b[0m\u001b[0;34m)\u001b[0m\u001b[0;34m\u001b[0m\u001b[0;34m\u001b[0m\u001b[0m\n\u001b[0m\u001b[1;32m    652\u001b[0m \u001b[0;34m\u001b[0m\u001b[0m\n\u001b[1;32m    653\u001b[0m     \u001b[0;32mdef\u001b[0m \u001b[0m_more_tags\u001b[0m\u001b[0;34m(\u001b[0m\u001b[0mself\u001b[0m\u001b[0;34m)\u001b[0m\u001b[0;34m:\u001b[0m\u001b[0;34m\u001b[0m\u001b[0;34m\u001b[0m\u001b[0m\n",
            "\u001b[0;32m/usr/local/lib/python3.7/dist-packages/sklearn/svm/_base.py\u001b[0m in \u001b[0;36mpredict\u001b[0;34m(self, X)\u001b[0m\n\u001b[1;32m    789\u001b[0m             \u001b[0my\u001b[0m \u001b[0;34m=\u001b[0m \u001b[0mnp\u001b[0m\u001b[0;34m.\u001b[0m\u001b[0margmax\u001b[0m\u001b[0;34m(\u001b[0m\u001b[0mself\u001b[0m\u001b[0;34m.\u001b[0m\u001b[0mdecision_function\u001b[0m\u001b[0;34m(\u001b[0m\u001b[0mX\u001b[0m\u001b[0;34m)\u001b[0m\u001b[0;34m,\u001b[0m \u001b[0maxis\u001b[0m\u001b[0;34m=\u001b[0m\u001b[0;36m1\u001b[0m\u001b[0;34m)\u001b[0m\u001b[0;34m\u001b[0m\u001b[0;34m\u001b[0m\u001b[0m\n\u001b[1;32m    790\u001b[0m         \u001b[0;32melse\u001b[0m\u001b[0;34m:\u001b[0m\u001b[0;34m\u001b[0m\u001b[0;34m\u001b[0m\u001b[0m\n\u001b[0;32m--> 791\u001b[0;31m             \u001b[0my\u001b[0m \u001b[0;34m=\u001b[0m \u001b[0msuper\u001b[0m\u001b[0;34m(\u001b[0m\u001b[0;34m)\u001b[0m\u001b[0;34m.\u001b[0m\u001b[0mpredict\u001b[0m\u001b[0;34m(\u001b[0m\u001b[0mX\u001b[0m\u001b[0;34m)\u001b[0m\u001b[0;34m\u001b[0m\u001b[0;34m\u001b[0m\u001b[0m\n\u001b[0m\u001b[1;32m    792\u001b[0m         \u001b[0;32mreturn\u001b[0m \u001b[0mself\u001b[0m\u001b[0;34m.\u001b[0m\u001b[0mclasses_\u001b[0m\u001b[0;34m.\u001b[0m\u001b[0mtake\u001b[0m\u001b[0;34m(\u001b[0m\u001b[0mnp\u001b[0m\u001b[0;34m.\u001b[0m\u001b[0masarray\u001b[0m\u001b[0;34m(\u001b[0m\u001b[0my\u001b[0m\u001b[0;34m,\u001b[0m \u001b[0mdtype\u001b[0m\u001b[0;34m=\u001b[0m\u001b[0mnp\u001b[0m\u001b[0;34m.\u001b[0m\u001b[0mintp\u001b[0m\u001b[0;34m)\u001b[0m\u001b[0;34m)\u001b[0m\u001b[0;34m\u001b[0m\u001b[0;34m\u001b[0m\u001b[0m\n\u001b[1;32m    793\u001b[0m \u001b[0;34m\u001b[0m\u001b[0m\n",
            "\u001b[0;32m/usr/local/lib/python3.7/dist-packages/sklearn/svm/_base.py\u001b[0m in \u001b[0;36mpredict\u001b[0;34m(self, X)\u001b[0m\n\u001b[1;32m    414\u001b[0m         \u001b[0mX\u001b[0m \u001b[0;34m=\u001b[0m \u001b[0mself\u001b[0m\u001b[0;34m.\u001b[0m\u001b[0m_validate_for_predict\u001b[0m\u001b[0;34m(\u001b[0m\u001b[0mX\u001b[0m\u001b[0;34m)\u001b[0m\u001b[0;34m\u001b[0m\u001b[0;34m\u001b[0m\u001b[0m\n\u001b[1;32m    415\u001b[0m         \u001b[0mpredict\u001b[0m \u001b[0;34m=\u001b[0m \u001b[0mself\u001b[0m\u001b[0;34m.\u001b[0m\u001b[0m_sparse_predict\u001b[0m \u001b[0;32mif\u001b[0m \u001b[0mself\u001b[0m\u001b[0;34m.\u001b[0m\u001b[0m_sparse\u001b[0m \u001b[0;32melse\u001b[0m \u001b[0mself\u001b[0m\u001b[0;34m.\u001b[0m\u001b[0m_dense_predict\u001b[0m\u001b[0;34m\u001b[0m\u001b[0;34m\u001b[0m\u001b[0m\n\u001b[0;32m--> 416\u001b[0;31m         \u001b[0;32mreturn\u001b[0m \u001b[0mpredict\u001b[0m\u001b[0;34m(\u001b[0m\u001b[0mX\u001b[0m\u001b[0;34m)\u001b[0m\u001b[0;34m\u001b[0m\u001b[0;34m\u001b[0m\u001b[0m\n\u001b[0m\u001b[1;32m    417\u001b[0m \u001b[0;34m\u001b[0m\u001b[0m\n\u001b[1;32m    418\u001b[0m     \u001b[0;32mdef\u001b[0m \u001b[0m_dense_predict\u001b[0m\u001b[0;34m(\u001b[0m\u001b[0mself\u001b[0m\u001b[0;34m,\u001b[0m \u001b[0mX\u001b[0m\u001b[0;34m)\u001b[0m\u001b[0;34m:\u001b[0m\u001b[0;34m\u001b[0m\u001b[0;34m\u001b[0m\u001b[0m\n",
            "\u001b[0;32m/usr/local/lib/python3.7/dist-packages/sklearn/svm/_base.py\u001b[0m in \u001b[0;36m_dense_predict\u001b[0;34m(self, X)\u001b[0m\n\u001b[1;32m    447\u001b[0m             \u001b[0mcoef0\u001b[0m\u001b[0;34m=\u001b[0m\u001b[0mself\u001b[0m\u001b[0;34m.\u001b[0m\u001b[0mcoef0\u001b[0m\u001b[0;34m,\u001b[0m\u001b[0;34m\u001b[0m\u001b[0;34m\u001b[0m\u001b[0m\n\u001b[1;32m    448\u001b[0m             \u001b[0mgamma\u001b[0m\u001b[0;34m=\u001b[0m\u001b[0mself\u001b[0m\u001b[0;34m.\u001b[0m\u001b[0m_gamma\u001b[0m\u001b[0;34m,\u001b[0m\u001b[0;34m\u001b[0m\u001b[0;34m\u001b[0m\u001b[0m\n\u001b[0;32m--> 449\u001b[0;31m             \u001b[0mcache_size\u001b[0m\u001b[0;34m=\u001b[0m\u001b[0mself\u001b[0m\u001b[0;34m.\u001b[0m\u001b[0mcache_size\u001b[0m\u001b[0;34m,\u001b[0m\u001b[0;34m\u001b[0m\u001b[0;34m\u001b[0m\u001b[0m\n\u001b[0m\u001b[1;32m    450\u001b[0m         )\n\u001b[1;32m    451\u001b[0m \u001b[0;34m\u001b[0m\u001b[0m\n",
            "\u001b[0;31mKeyboardInterrupt\u001b[0m: "
          ]
        }
      ]
    },
    {
      "cell_type": "code",
      "source": [
        "collate_cv_results(cvlistGaus)"
      ],
      "metadata": {
        "id": "7Q-F-l5pCqlS"
      },
      "execution_count": null,
      "outputs": []
    },
    {
      "cell_type": "code",
      "source": [
        "collate_cv_results(cvlistSVC)"
      ],
      "metadata": {
        "id": "ziEdDdbCIYDQ"
      },
      "execution_count": null,
      "outputs": []
    },
    {
      "cell_type": "code",
      "source": [
        "collate_cv_results(cvlistRF)"
      ],
      "metadata": {
        "id": "TH5FpeRCIX5C"
      },
      "execution_count": null,
      "outputs": []
    },
    {
      "cell_type": "markdown",
      "source": [
        "Across the board, using 5 fold cross validation slightly improved performance. But Naive Bayes was more consistent comparitively, because of its fairly simple classifiers"
      ],
      "metadata": {
        "id": "axyJeWQ4TFdQ"
      }
    },
    {
      "cell_type": "markdown",
      "source": [
        "Part 3: SVM Hyperparameter Tuning"
      ],
      "metadata": {
        "id": "3kykeLuhgBC5"
      }
    },
    {
      "cell_type": "code",
      "source": [
        "#Summarizes model performance results produced during hyperparameter tuning\n",
        "def collate_ht_results(ht_results,metric_keys=metric_keys,display=True):\n",
        "    ht_stats=dict()\n",
        "    for metric in metric_keys:\n",
        "        ht_stats[metric+\"_mean\"] = ht_results.cv_results_[\"mean_test_\"+metric][ht_results.best_index_]\n",
        "        ht_stats[metric+\"_std\"] = metric_std = ht_results.cv_results_[\"std_test_\"+metric][ht_results.best_index_]\n",
        "        if display:\n",
        "            print(\"test_\"+metric,ht_stats[metric+\"_mean\"],\"(\"+str(ht_stats[metric+\"_std\"])+\")\")\n",
        "    return ht_stats"
      ],
      "metadata": {
        "id": "DYX5aJOr1Abt"
      },
      "execution_count": null,
      "outputs": []
    },
    {
      "cell_type": "code",
      "source": [
        "from sklearn.metrics import classification_report\n",
        "\n",
        "model = svm.SVC()\n",
        "model.fit(preprocessedX_train, Y_train)\n",
        "\n",
        "# print prediction results\n",
        "predictions = model.predict(preprocessedX_train)\n",
        "\n",
        "print(classification_report(Y_train, predictions))\n"
      ],
      "metadata": {
        "id": "q6Y2CES95HrA"
      },
      "execution_count": null,
      "outputs": []
    },
    {
      "cell_type": "code",
      "source": [
        "print(preprocessedX_train)"
      ],
      "metadata": {
        "colab": {
          "base_uri": "https://localhost:8080/"
        },
        "id": "yszBLM0HDe8c",
        "outputId": "c3f2b372-f121-4315-f73e-0d1e7c256191"
      },
      "execution_count": null,
      "outputs": [
        {
          "output_type": "stream",
          "name": "stdout",
          "text": [
            "            0         1         2         3         4         5         6   \\\n",
            "0     3.501396  0.000000  0.311869  0.000000  5.072031  0.000000  0.000000   \n",
            "1     4.746337  0.000000  1.901575  0.313658  1.950781  0.000000  0.279525   \n",
            "2     4.123867  0.559851  2.668640  0.627317  3.901562  0.000000  0.559050   \n",
            "3     3.034543  0.000000  1.659645  0.627317  3.901562  0.000000  0.559050   \n",
            "4     2.723308  0.000000  3.361690  0.940975  3.511406  0.000000  0.838575   \n",
            "...        ...       ...       ...       ...       ...       ...       ...   \n",
            "9075  4.979763  0.559851  3.293487  0.627317  3.901562  0.000000  1.956675   \n",
            "9076  1.945220  0.000000  0.493510  0.940975  3.511406  0.000000  0.279525   \n",
            "9077  5.290999  0.000000  0.653415  0.627317  3.901562  4.006403  0.000000   \n",
            "9078  2.878926  0.000000  1.628367  2.509267  2.731094  2.003201  0.279525   \n",
            "9079  2.956735  0.000000  2.087467  0.940975  3.511406  3.004802  2.795249   \n",
            "\n",
            "           7         8         9    10   11        12        13  \n",
            "0     0.00000  0.000000  0.000000  0.0  0.0  4.549944  0.000000  \n",
            "1     0.00000  0.000000  0.000000  0.0  0.0  3.309050  0.000000  \n",
            "2     0.00000  0.000000  0.000000  0.0  0.0  3.309050  0.000000  \n",
            "3     0.00000  0.000000  0.000000  0.0  0.0  3.309050  0.000000  \n",
            "4     0.00000  0.000000  0.000000  0.0  0.0  3.309050  0.216518  \n",
            "...       ...       ...       ...  ...  ...       ...       ...  \n",
            "9075  2.67848  0.000000  2.285104  0.0  0.0  3.309050  0.000000  \n",
            "9076  0.00000  0.000000  0.000000  0.0  0.0  2.895419  0.000000  \n",
            "9077  2.00886  0.000000  0.000000  0.0  0.0  3.309050  0.000000  \n",
            "9078  2.00886  0.000000  0.000000  0.0  0.0  3.309050  0.000000  \n",
            "9079  1.33924  3.486591  2.285104  0.0  0.0  3.309050  0.000000  \n",
            "\n",
            "[9080 rows x 14 columns]\n"
          ]
        }
      ]
    },
    {
      "cell_type": "code",
      "source": [
        "%%time\n",
        "\n",
        "from sklearn.model_selection import GridSearchCV\n",
        "\n",
        "\n",
        "\n",
        "param_grid = {'C': [1, 5, 10, 20],\n",
        "              'gamma': ['auto','scale'],\n",
        "              'kernel': ['linear', 'rbf']}\n",
        "\n",
        "bestchoiceGSSVM = GridSearchCV(clf, param_grid, refit = 'auc', scoring = p1_metrics_scorer, cv = skf, n_jobs = 6, return_train_score = False)\n",
        "\n",
        "grid_result = bestchoiceGSSVM.fit(preprocessedX_train, Y_train)\n",
        "\n"
      ],
      "metadata": {
        "id": "Ua8kq2hxg1XK",
        "colab": {
          "base_uri": "https://localhost:8080/"
        },
        "outputId": "4a0f8d5e-da0e-403c-fc70-dae416c46819"
      },
      "execution_count": null,
      "outputs": [
        {
          "output_type": "stream",
          "name": "stdout",
          "text": [
            "CPU times: user 5.83 s, sys: 434 ms, total: 6.27 s\n",
            "Wall time: 5min 33s\n"
          ]
        }
      ]
    },
    {
      "cell_type": "code",
      "source": [
        "collate_ht_results(bestchoiceGSSVM, display=True)\n",
        "\n",
        "# Print the best accuracy score for the training dataset\n",
        "print(f'The best accuracy score for the training dataset is {grid_result.best_score_:.4f}')\n",
        "\n",
        "# Print the hyperparameters for the best score\n",
        "print(f'The best hyperparameters are {grid_result.best_params_}')\n",
        "\n",
        "# Print the best accuracy score for the testing dataset\n",
        "print(f'The accuracy score for the testing dataset is {bestchoiceGSSVM.score(preprocessedX_test, Y_test):.4f}')\n",
        "\n",
        "#The best hyperparameters are {'C': 5, 'gamma': 'scale', 'kernel': 'rbf'}"
      ],
      "metadata": {
        "id": "667Z2cytIWY3"
      },
      "execution_count": null,
      "outputs": []
    },
    {
      "cell_type": "code",
      "source": [
        "print(bestchoiceGSSVM.best_estimator_)\n",
        "\n",
        "bestchoiceGSSVM_predictions = bestchoiceGSSVM.predict(preprocessedX_train)\n",
        "print(classification_report(Y_train, bestchoiceGSSVM_predictions))"
      ],
      "metadata": {
        "id": "-gAzkeCtlaSD"
      },
      "execution_count": null,
      "outputs": []
    },
    {
      "cell_type": "code",
      "source": [
        "%%time\n",
        "\n",
        "from sklearn.model_selection import RandomizedSearchCV\n",
        "\n",
        "param_grid2 = {'C': [1, 5, 10, 15, 20, 25, 30, 35, 40, 45, 50, 55, 60, 65, 70, 75, 80, 85, 90, 95, 100],\n",
        "              'gamma': ['auto','scale'],\n",
        "              'kernel': ['linear', 'rbf']}\n",
        "\n",
        "randomizedSearchCVSVM = RandomizedSearchCV(clf, param_grid2, refit = 'auc', scoring = p1_metrics_scorer, cv = skf, n_jobs = 10, return_train_score = False, n_iter = 16)\n",
        "\n",
        "random_result = randomizedSearchCVSVM.fit(preprocessedX_train, Y_train)"
      ],
      "metadata": {
        "id": "lsVWul83r3oP"
      },
      "execution_count": null,
      "outputs": []
    },
    {
      "cell_type": "code",
      "source": [
        "collate_ht_results(randomizedSearchCVSVM, display=True)\n",
        "\n",
        "# Print the best accuracy score for the training dataset\n",
        "print(f'The best accuracy score for the training dataset is {random_result.best_score_:.4f}')\n",
        "\n",
        "# Print the hyperparameters for the best score\n",
        "print(f'The best hyperparameters are {random_result.best_params_}')\n",
        "\n",
        "# Print the best accuracy score for the testing dataset\n",
        "print(f'The accuracy score for the testing dataset is {randomizedSearchCVSVM.score(preprocessedX_test, Y_test):.4f}')\n",
        "\n",
        "#The best hyperparameters are {'kernel': 'rbf', 'gamma': 'scale', 'C': 1}"
      ],
      "metadata": {
        "id": "EEDSUCx6Ra91"
      },
      "execution_count": null,
      "outputs": []
    },
    {
      "cell_type": "code",
      "source": [
        "print(randomizedSearchCVSVM.best_estimator_)\n",
        "\n",
        "randomizedSearchCVSVM_predictions = randomizedSearchCVSVM.predict(preprocessedX_train)\n",
        "print(classification_report(Y_train, randomizedSearchCVSVM_predictions))"
      ],
      "metadata": {
        "id": "gV1BuaPTRAEz"
      },
      "execution_count": null,
      "outputs": []
    },
    {
      "cell_type": "markdown",
      "source": [
        "Gridsearch took 5 minutes while Randomized search took around 18 minutes. For the far greater computational requirement, Gridsearch still had a very slightly better result so in this case gridsearch cross validation seemed to be the better choice for hyperparameter tuning"
      ],
      "metadata": {
        "id": "_YBwM8xUUIZQ"
      }
    },
    {
      "cell_type": "markdown",
      "source": [
        "Part 4: Random Forest Hyperparameter Tuning"
      ],
      "metadata": {
        "id": "jQIpoG7fwVor"
      }
    },
    {
      "cell_type": "code",
      "source": [
        "%%time\n",
        "import math\n",
        "\n",
        "param_grid3 = {'criterion': ['gini', 'entropy'],\n",
        "              'max_depth': [math.ceil(math.log2(len(non_test_data_set))-1), None ],\n",
        "              'n_estimators': [10,20,30,40,50,60,70,80,90,100]}\n",
        "\n",
        "\n",
        "randm_src = RandomizedSearchCV(rf, param_grid3, refit = 'auc', scoring = p1_metrics_scorer, cv = skf, n_jobs = 6, return_train_score = False, n_iter = 16, verbose = 2)\n",
        "\n",
        "rfht = randm_src.fit(preprocessedX_train, Y_train)\n",
        "\n"
      ],
      "metadata": {
        "id": "7zx8URhcweMw"
      },
      "execution_count": null,
      "outputs": []
    },
    {
      "cell_type": "code",
      "source": [
        "print(\" Results from Random Search \" )\n",
        "print(\"\\n The best estimator across ALL searched params:\\n\", randm_src.best_estimator_)\n",
        "print(\"\\n The best score across ALL searched params:\\n\", randm_src.best_score_)\n",
        "print(\"\\n The best parameters across ALL searched params:\\n\", randm_src.best_params_)\n",
        "\n",
        "# RandomForestClassifier(criterion='entropy', max_depth=13, n_estimators=90,random_state=23800756)"
      ],
      "metadata": {
        "id": "Q03E8Kne0bGH"
      },
      "execution_count": null,
      "outputs": []
    },
    {
      "cell_type": "code",
      "source": [
        "collate_ht_results(randm_src)"
      ],
      "metadata": {
        "id": "8mIF7NUQvMq0"
      },
      "execution_count": null,
      "outputs": []
    },
    {
      "cell_type": "markdown",
      "source": [
        "Part 2's model performed 0.005 worse putting the random forest hyperparameter tuning model just slightly in front"
      ],
      "metadata": {
        "id": "DiS2KhWYU-7O"
      }
    },
    {
      "cell_type": "markdown",
      "source": [
        "Part 5:  Feature Selection"
      ],
      "metadata": {
        "id": "14hYjvkub6Pu"
      }
    },
    {
      "cell_type": "code",
      "source": [
        "sssplit3 = StratifiedShuffleSplit(n_splits=2, test_size=0.166666666, random_state=23800756)\n",
        "for train_index, feature_index in sssplit3.split(strat_train_set_copy, strat_train_set_copy['annual-income']):\n",
        "    split_strat_train_set = strat_train_set_copy.iloc[train_index]\n",
        "    feature_set = strat_train_set_copy.iloc[feature_index]"
      ],
      "metadata": {
        "id": "CaVIu6H1b8-V"
      },
      "execution_count": null,
      "outputs": []
    },
    {
      "cell_type": "code",
      "source": [
        "#Calculate feature importance on the feature selection subset using Random Forest Feature Importance (RFFI).\n",
        "\n",
        "feature_importance = pd.DataFrame(rf.feature_importances_, index = X_train.columns, columns = ['importance']).sort_values('importance', ascending = False)\n",
        "\n",
        "feature_importance"
      ],
      "metadata": {
        "id": "jKCQqhrsirbV"
      },
      "execution_count": null,
      "outputs": []
    },
    {
      "cell_type": "code",
      "source": [
        "#Produce a bar graph showing each feature's importance and its standard deviation, as determined by RFFI, in descending order.\n",
        "\n",
        "from matplotlib import pyplot as plt\n",
        "\n",
        "sorted = feature_importance.sort_values(['importance'])\n",
        "\n",
        "plt.barh(sorted.index, sorted.importance )\n",
        "\n",
        "plt.rcParams[\"figure.figsize\"] = (15, 10)"
      ],
      "metadata": {
        "id": "BCv_05nLAN8a"
      },
      "execution_count": null,
      "outputs": []
    },
    {
      "cell_type": "code",
      "source": [
        "#Choosing the top 6 features, train NB, SVM, and RF models on this new,smaller training set and test on the validation set.\n",
        "\n",
        "SX_train = split_strat_train_set.drop(['annual-income', 'race', 'native-country', 'sex', 'capital-loss', 'workclass', 'education', 'occupation', 'hours-per-week'], axis=1)\n",
        "SY_train = split_strat_train_set['annual-income']\n",
        "SX_test = X_test.drop(['race', 'native-country', 'sex', 'capital-loss', 'workclass', 'education', 'occupation', 'hours-per-week'], axis=1)\n",
        "SY_test = strat_test_set_copy['annual-income']\n",
        "SX_valid = X_valid.drop([ 'race', 'native-country', 'sex', 'capital-loss', 'workclass', 'education', 'occupation', 'hours-per-week'], axis=1)\n",
        "SY_valid = strat_valid_set_copy['annual-income']\n"
      ],
      "metadata": {
        "id": "3A6lLokGMQF1"
      },
      "execution_count": null,
      "outputs": []
    },
    {
      "cell_type": "code",
      "source": [
        "gnb.fit(SX_train ,SY_train)\n",
        "\n",
        "Y_predict_gnb_1 = gnb.predict(SX_valid)\n",
        "accuracy_score(SY_valid,Y_predict_gnb_1)"
      ],
      "metadata": {
        "id": "o_Iz74ndS8eM"
      },
      "execution_count": null,
      "outputs": []
    },
    {
      "cell_type": "code",
      "source": [
        "clf.fit(SX_train, SY_train)\n",
        "\n",
        "Y_predict_svm_1 = clf.predict(SX_valid)\n",
        "accuracy_score(SY_valid, Y_predict_svm_1)"
      ],
      "metadata": {
        "id": "di9qn3YlTcLt"
      },
      "execution_count": null,
      "outputs": []
    },
    {
      "cell_type": "code",
      "source": [
        "rf.fit(SX_train, SY_train)\n",
        "\n",
        "rf_Y_train_1 = rf.predict(SX_valid)\n",
        "accuracy_score(SY_valid,rf_Y_train_1)"
      ],
      "metadata": {
        "id": "zq5TnvKcThlh"
      },
      "execution_count": null,
      "outputs": []
    },
    {
      "cell_type": "code",
      "source": [
        "#Choosing the top 11 features, train NB, SVM, and RF models on this new,smaller training set and test on the validation set.\n",
        "\n",
        "newSX_train = split_strat_train_set.drop(['annual-income', 'race', 'native-country', 'sex'], axis=1)\n",
        "newSY_train = split_strat_train_set['annual-income']\n",
        "newSX_valid = strat_valid_set_copy(['annual-income','race', 'native-country', 'sex'], axis=1)\n",
        "newSY_valid = strat_valid_set_copy['annual-income']"
      ],
      "metadata": {
        "id": "xcejC2jP4dvO"
      },
      "execution_count": null,
      "outputs": []
    },
    {
      "cell_type": "code",
      "source": [
        "gnb.fit(newSX_train ,newSY_train)\n",
        "\n",
        "Y_predict_gnb_2 = gnb.predict(newSX_valid)\n",
        "accuracy_score(newSY_valid,Y_predict_gnb_2)"
      ],
      "metadata": {
        "id": "rmXnkSNt4xo1"
      },
      "execution_count": null,
      "outputs": []
    },
    {
      "cell_type": "code",
      "source": [
        "clf.fit(newSX_train, newSY_train)\n",
        "\n",
        "Y_predict_svm_2 = clf.predict(newSX_valid)\n",
        "accuracy_score(newSY_valid, Y_predict_svm_2)"
      ],
      "metadata": {
        "id": "0jB557pJ40_M"
      },
      "execution_count": null,
      "outputs": []
    },
    {
      "cell_type": "code",
      "source": [
        "rf.fit(newSX_train, newSY_train)\n",
        "\n",
        "Y_predict_rf_2 = rf.predict(newSX_valid)\n",
        "accuracy_score(newSY_valid,Y_predict_rf_2)"
      ],
      "metadata": {
        "id": "bbdNAf7q429c"
      },
      "execution_count": null,
      "outputs": []
    },
    {
      "cell_type": "markdown",
      "source": [
        "The performance overall was better with more features. (although im sure thats not suppose to happen). With all 14 performing better than having 11 and 6 feature models underperforming."
      ],
      "metadata": {
        "id": "aLx8pC6M5S-o"
      }
    },
    {
      "cell_type": "markdown",
      "source": [
        "Part 6: Final Models and Visualization"
      ],
      "metadata": {
        "id": "4st-2pK1uOpK"
      }
    },
    {
      "cell_type": "markdown",
      "source": [
        "Using the full training set (feature selection + training + validation), train NB, SVM, and RF models, then apply them to the test set. Your final NB, SVM, and RF models should be named gnb_final, svm_final, and rf_final.\n"
      ],
      "metadata": {
        "id": "avBL8m9b5bgx"
      }
    },
    {
      "cell_type": "code",
      "source": [
        "gnb_final = GaussianNB()\n",
        "\n",
        "gnb_final.fit(X_ntd ,Y_ntd)\n",
        "\n",
        "final_gnb_predict = gnb_final.predict(X_test)\n",
        "accuracy_score(Y_test,final_gnb_predict)"
      ],
      "metadata": {
        "id": "owVokW6MuM-_"
      },
      "execution_count": null,
      "outputs": []
    },
    {
      "cell_type": "code",
      "source": [
        "clf_final = svm.SVC(kernel= 'rbf', gamma = 'scale', C = 1, probability=True)\n",
        "\n",
        "clf_final.fit(X_ntd, Y_ntd)\n",
        "\n",
        "final_clf_predict = clf_final.predict(X_test)\n",
        "accuracy_score(Y_test,final_clf_predict)"
      ],
      "metadata": {
        "id": "2aG0NNm50cjc"
      },
      "execution_count": null,
      "outputs": []
    },
    {
      "cell_type": "code",
      "source": [
        "rf_final = RandomForestClassifier(criterion='entropy', max_depth=13, n_estimators=90, random_state=23800756)\n",
        "\n",
        "\n",
        "rf_final.fit(X_ntd, Y_ntd)\n",
        "#rf.score(X_test, Y_test)\n",
        "\n",
        "final_rf_predict = rf_final.predict(X_test)\n",
        "accuracy_score(Y_test,final_rf_predict)"
      ],
      "metadata": {
        "id": "vstbyZTY376a"
      },
      "execution_count": null,
      "outputs": []
    },
    {
      "cell_type": "code",
      "source": [
        "#Cross validation\n",
        "\n",
        "cvresults_Gaussian = cross_val_score(gnb_final, X_ntd, Y_ntd, cv= skf)\n",
        "\n",
        "gnb_finalscores = []\n",
        "\n",
        "for i in cvresults_Gaussian :\n",
        "  gnb_finalscores.append(i)\n",
        "\n",
        "cvresults_SVC = cross_val_score(clf_final, X_ntd, Y_ntd, cv= skf)\n",
        "\n",
        "clf_finalscores = []\n",
        "\n",
        "for i in cvresults_SVC  :\n",
        "  clf_finalscores.append(i)\n",
        "\n",
        "cvresults_RF = cross_val_score(rf_final, X_ntd, Y_ntd, cv= skf)\n",
        "\n",
        "rf_finalscores = []\n",
        "\n",
        "for i in cvresults_RF :\n",
        "  rf_finalscores.append(i)\n",
        "\n",
        "print(gnb_finalscores, clf_finalscores, rf_finalscores)\n"
      ],
      "metadata": {
        "id": "CQ1jWFVyZVcb"
      },
      "execution_count": null,
      "outputs": []
    },
    {
      "cell_type": "code",
      "source": [
        "data1 = list(gnb_finalscores.items())"
      ],
      "metadata": {
        "id": "0usN58p-dpQ7"
      },
      "execution_count": null,
      "outputs": []
    },
    {
      "cell_type": "code",
      "source": [
        "gnb_finalscores"
      ],
      "metadata": {
        "id": "a_3Bz7cTcsIK"
      },
      "execution_count": null,
      "outputs": []
    },
    {
      "cell_type": "code",
      "source": [
        "clf_finalscores"
      ],
      "metadata": {
        "id": "YWCdYBG8euHZ"
      },
      "execution_count": null,
      "outputs": []
    },
    {
      "cell_type": "code",
      "source": [
        "rf_finalscores"
      ],
      "metadata": {
        "id": "3bEem0p4eueB"
      },
      "execution_count": null,
      "outputs": []
    },
    {
      "cell_type": "code",
      "source": [
        "collate_cv_results(gnb_finalscores, display = True)"
      ],
      "metadata": {
        "id": "v_E6VStIbhzJ"
      },
      "execution_count": null,
      "outputs": []
    },
    {
      "cell_type": "code",
      "source": [
        "collate_cv_results(clf_finalscores,display=True)"
      ],
      "metadata": {
        "id": "tyoupL4BblMT"
      },
      "execution_count": null,
      "outputs": []
    },
    {
      "cell_type": "code",
      "source": [
        "collate_cv_results(rf_finalscores,display=True)"
      ],
      "metadata": {
        "id": "4T54RuMvbldi"
      },
      "execution_count": null,
      "outputs": []
    },
    {
      "cell_type": "markdown",
      "source": [
        "Create a bar chart of mean metrics from cross-validation, with standard deviation as an error bar for each model on the same plot. Use the NB model from Part 2, but the optimal models from Parts 3 and 4 for SVM and RF respectively."
      ],
      "metadata": {
        "id": "ACCup9eJN5oh"
      }
    },
    {
      "cell_type": "code",
      "source": [
        "qwe = ['NB','SVM','RF']\n",
        "mean = [collate_cv_results(cvlistGaus).get('mean'), collate_cv_results(clf_finalscores,display=True).get('mean'), collate_cv_results(rf_finalscores,display=True).get('mean')]\n",
        "stndeviation = [collate_cv_results(cvlistGaus).get('std'), collate_cv_results(clf_finalscores,display=True).get('std'), collate_cv_results(rf_finalscores,display=True).get('std')]\n",
        "\n",
        "qwe_axis = np.arange(len(qwe))\n",
        "\n",
        "plt.bar(qwe_axis - 0.2, stndeviation, 0.4, label = 'stndeviation',)\n",
        "plt.bar(qwe_axis + 0.2, mean, 0.4, label = 'mean', color = 'green')\n",
        "\n",
        "plt.xticks(qwe_axis, qwe)\n",
        "plt.legend()\n",
        "plt.show()"
      ],
      "metadata": {
        "id": "3amzjDzph_Ek",
        "colab": {
          "base_uri": "https://localhost:8080/",
          "height": 246
        },
        "outputId": "422ddecb-036a-4ec5-e18c-bc4e4711108d"
      },
      "execution_count": null,
      "outputs": [
        {
          "output_type": "error",
          "ename": "NameError",
          "evalue": "ignored",
          "traceback": [
            "\u001b[0;31m---------------------------------------------------------------------------\u001b[0m",
            "\u001b[0;31mNameError\u001b[0m                                 Traceback (most recent call last)",
            "\u001b[0;32m<ipython-input-1-f195662317a0>\u001b[0m in \u001b[0;36m<module>\u001b[0;34m\u001b[0m\n\u001b[1;32m      1\u001b[0m \u001b[0mqwe\u001b[0m \u001b[0;34m=\u001b[0m \u001b[0;34m[\u001b[0m\u001b[0;34m'NB'\u001b[0m\u001b[0;34m,\u001b[0m\u001b[0;34m'SVM'\u001b[0m\u001b[0;34m,\u001b[0m\u001b[0;34m'RF'\u001b[0m\u001b[0;34m]\u001b[0m\u001b[0;34m\u001b[0m\u001b[0;34m\u001b[0m\u001b[0m\n\u001b[0;32m----> 2\u001b[0;31m \u001b[0mmean\u001b[0m \u001b[0;34m=\u001b[0m \u001b[0;34m[\u001b[0m\u001b[0mcollate_cv_results\u001b[0m\u001b[0;34m(\u001b[0m\u001b[0mcvlistGaus\u001b[0m\u001b[0;34m)\u001b[0m\u001b[0;34m.\u001b[0m\u001b[0mget\u001b[0m\u001b[0;34m(\u001b[0m\u001b[0;34m'mean'\u001b[0m\u001b[0;34m)\u001b[0m\u001b[0;34m,\u001b[0m \u001b[0mcollate_cv_results\u001b[0m\u001b[0;34m(\u001b[0m\u001b[0mclf_finalscores\u001b[0m\u001b[0;34m,\u001b[0m\u001b[0mdisplay\u001b[0m\u001b[0;34m=\u001b[0m\u001b[0;32mTrue\u001b[0m\u001b[0;34m)\u001b[0m\u001b[0;34m.\u001b[0m\u001b[0mget\u001b[0m\u001b[0;34m(\u001b[0m\u001b[0;34m'mean'\u001b[0m\u001b[0;34m)\u001b[0m\u001b[0;34m,\u001b[0m \u001b[0mcollate_cv_results\u001b[0m\u001b[0;34m(\u001b[0m\u001b[0mrf_finalscores\u001b[0m\u001b[0;34m,\u001b[0m\u001b[0mdisplay\u001b[0m\u001b[0;34m=\u001b[0m\u001b[0;32mTrue\u001b[0m\u001b[0;34m)\u001b[0m\u001b[0;34m.\u001b[0m\u001b[0mget\u001b[0m\u001b[0;34m(\u001b[0m\u001b[0;34m'mean'\u001b[0m\u001b[0;34m)\u001b[0m\u001b[0;34m]\u001b[0m\u001b[0;34m\u001b[0m\u001b[0;34m\u001b[0m\u001b[0m\n\u001b[0m\u001b[1;32m      3\u001b[0m \u001b[0mstndeviation\u001b[0m \u001b[0;34m=\u001b[0m \u001b[0;34m[\u001b[0m\u001b[0mcollate_cv_results\u001b[0m\u001b[0;34m(\u001b[0m\u001b[0mcvlistGaus\u001b[0m\u001b[0;34m)\u001b[0m\u001b[0;34m.\u001b[0m\u001b[0mget\u001b[0m\u001b[0;34m(\u001b[0m\u001b[0;34m'std'\u001b[0m\u001b[0;34m)\u001b[0m\u001b[0;34m,\u001b[0m \u001b[0mcollate_cv_results\u001b[0m\u001b[0;34m(\u001b[0m\u001b[0mclf_finalscores\u001b[0m\u001b[0;34m,\u001b[0m\u001b[0mdisplay\u001b[0m\u001b[0;34m=\u001b[0m\u001b[0;32mTrue\u001b[0m\u001b[0;34m)\u001b[0m\u001b[0;34m.\u001b[0m\u001b[0mget\u001b[0m\u001b[0;34m(\u001b[0m\u001b[0;34m'std'\u001b[0m\u001b[0;34m)\u001b[0m\u001b[0;34m,\u001b[0m \u001b[0mcollate_cv_results\u001b[0m\u001b[0;34m(\u001b[0m\u001b[0mrf_finalscores\u001b[0m\u001b[0;34m,\u001b[0m\u001b[0mdisplay\u001b[0m\u001b[0;34m=\u001b[0m\u001b[0;32mTrue\u001b[0m\u001b[0;34m)\u001b[0m\u001b[0;34m.\u001b[0m\u001b[0mget\u001b[0m\u001b[0;34m(\u001b[0m\u001b[0;34m'std'\u001b[0m\u001b[0;34m)\u001b[0m\u001b[0;34m]\u001b[0m\u001b[0;34m\u001b[0m\u001b[0;34m\u001b[0m\u001b[0m\n\u001b[1;32m      4\u001b[0m \u001b[0;34m\u001b[0m\u001b[0m\n\u001b[1;32m      5\u001b[0m \u001b[0mqwe_axis\u001b[0m \u001b[0;34m=\u001b[0m \u001b[0mnp\u001b[0m\u001b[0;34m.\u001b[0m\u001b[0marange\u001b[0m\u001b[0;34m(\u001b[0m\u001b[0mlen\u001b[0m\u001b[0;34m(\u001b[0m\u001b[0mqwe\u001b[0m\u001b[0;34m)\u001b[0m\u001b[0;34m)\u001b[0m\u001b[0;34m\u001b[0m\u001b[0;34m\u001b[0m\u001b[0m\n",
            "\u001b[0;31mNameError\u001b[0m: name 'collate_cv_results' is not defined"
          ]
        }
      ]
    },
    {
      "cell_type": "markdown",
      "source": [
        "Plot Receiver Operating Characteristic (ROC) curves for each final model in a single plot."
      ],
      "metadata": {
        "id": "NuM-q9W9OBEi"
      }
    },
    {
      "cell_type": "code",
      "source": [
        "from sklearn.metrics import roc_curve, roc_auc_score\n",
        "\n",
        "r_probs = [0 for _ in range(len(Y_test))]\n",
        "gnb_probs = gnb_final.predict_proba(X_test)\n",
        "svm_probs = clf_final.predict_proba(X_test)\n",
        "rf_probs = rf.predict_proba(X_test)\n",
        "\n",
        "gnb_probs = gnb_probs[:, 1]\n",
        "rf_probs = rf_probs[:, 1]\n",
        "svm_probs = svm_probs[:, 1]\n",
        "\n",
        "\n",
        "r_auc = roc_auc_score(Y_test, r_probs)\n",
        "gnb_auc = roc_auc_score(Y_test, gnb_probs)\n",
        "svm_auc = roc_auc_score(Y_test, svm_probs)\n",
        "rf_auc = roc_auc_score(Y_test, rf_probs)\n",
        "\n"
      ],
      "metadata": {
        "id": "dDbWLW2cnKC1"
      },
      "execution_count": null,
      "outputs": []
    },
    {
      "cell_type": "code",
      "source": [
        "print('Random (chance) Prediction: AUROC = %.3f' % (r_auc))\n",
        "print('Naive Bayes: AUROC = %.3f' % (gnb_auc))\n",
        "print('Support Vector Machine: AUROC = %.3f' % (gnb_auc))\n",
        "print('Random Forest: AUROC = %.3f' % (rf_auc))"
      ],
      "metadata": {
        "id": "1uHCN0skrbNU"
      },
      "execution_count": null,
      "outputs": []
    },
    {
      "cell_type": "code",
      "source": [
        "r_fpr, r_tpr, _ = roc_curve(Y_test, r_probs)\n",
        "gnb_fpr, gnb_tpr, _ = roc_curve(Y_test, gnb_probs)\n",
        "svm_fpr, svm_tpr, _ = roc_curve(Y_test, svm_probs)\n",
        "rf_fpr, rf_tpr, _ = roc_curve(Y_test, rf_probs)\n"
      ],
      "metadata": {
        "id": "K32ywIqPseSN"
      },
      "execution_count": null,
      "outputs": []
    },
    {
      "cell_type": "code",
      "source": [
        "plt.plot(r_fpr, r_tpr, linestyle='--', label='Random prediction (AUROC = %0.3f)' % r_auc)\n",
        "plt.plot(gnb_fpr, gnb_tpr, marker='.', label='Naive Bayes (AUROC = %0.3f)' % gnb_auc)\n",
        "plt.plot(svm_fpr, svm_tpr, marker='.', label='Support Vector Machine (AUROC = %0.3f)' % svm_auc)\n",
        "plt.plot(rf_fpr, rf_tpr, marker='.', label='Random Forest (AUROC = %0.3f)' % rf_auc)\n",
        "\n",
        "\n",
        "plt.title('ROC Plot')\n",
        "plt.xlabel('False Positive Rate (fallout)')\n",
        "plt.ylabel('True Positive Rate (recall) ')\n",
        "plt.legend()\n",
        "plt.show()"
      ],
      "metadata": {
        "id": "pH38tPfNsk_t"
      },
      "execution_count": null,
      "outputs": []
    },
    {
      "cell_type": "markdown",
      "source": [
        "The AUROC is a pretty good metric for performance as it tells you how good a model's ability to discriminate between positive examples and negative examples.The AUROC for each models seemed to overall show how these three models tend to perform comparatively with each other throughout the project."
      ],
      "metadata": {
        "id": "hYqFwcLpWQNb"
      }
    }
  ]
}